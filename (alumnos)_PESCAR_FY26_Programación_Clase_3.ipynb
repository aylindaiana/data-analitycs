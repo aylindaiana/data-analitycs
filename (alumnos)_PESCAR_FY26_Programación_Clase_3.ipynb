{
  "nbformat": 4,
  "nbformat_minor": 0,
  "metadata": {
    "colab": {
      "provenance": [],
      "include_colab_link": true
    },
    "kernelspec": {
      "name": "python3",
      "display_name": "Python 3"
    }
  },
  "cells": [
    {
      "cell_type": "markdown",
      "metadata": {
        "id": "view-in-github",
        "colab_type": "text"
      },
      "source": [
        "<a href=\"https://colab.research.google.com/github/aylindaiana/python-Salesforce/blob/main/(alumnos)_PESCAR_FY26_Programaci%C3%B3n_Clase_3.ipynb\" target=\"_parent\"><img src=\"https://colab.research.google.com/assets/colab-badge.svg\" alt=\"Open In Colab\"/></a>"
      ]
    },
    {
      "cell_type": "markdown",
      "metadata": {
        "id": "gn6bEg3-uUg3"
      },
      "source": [
        "# Pescar - Clase 3 - Introducción a la programación en Python - Ejercicios.ipynb"
      ]
    },
    {
      "cell_type": "markdown",
      "metadata": {
        "id": "lBMJiKmXIR-N"
      },
      "source": [
        "# **Bloque 1**"
      ]
    },
    {
      "cell_type": "markdown",
      "metadata": {
        "id": "9ELbbtY_J9Q-"
      },
      "source": [
        "Repaso con el equipo"
      ]
    },
    {
      "cell_type": "markdown",
      "metadata": {
        "id": "aBKE9cuDIRqh"
      },
      "source": [
        "# **Bloque 2**"
      ]
    },
    {
      "cell_type": "markdown",
      "metadata": {
        "id": "9RUAESvfy19y"
      },
      "source": [
        "# Repaso Teorico\n",
        "\n",
        "## Qué trabajamos hasta ahora?\n",
        "\n",
        "* Hello, World!\n",
        "* Variables y Tipos\n",
        "* Listas y Diccionarios\n",
        "* Opeardores Basicos\n",
        "* Manejo de cadenas(Strings)\n",
        "\n"
      ]
    },
    {
      "cell_type": "markdown",
      "metadata": {
        "id": "Mir05R5_IFg8"
      },
      "source": [
        "# **Bloque 3**"
      ]
    },
    {
      "cell_type": "markdown",
      "metadata": {
        "id": "ugznY7o2BsPa"
      },
      "source": [
        "#Condicionales\n",
        "\n",
        "Python evalua las *Condiciones* basandose en la lógica booleana, es decir que a fin de cuentas, cualquier combinación de Expresiones debe poder ser evaluada como Verdadero(V o T) o Falso(F)\n",
        "\n",
        "Una condicion se expresa como una o varias expresiones que seran evaluadas o comparadas. Para esto se utilizan diferentes tipos de *Operadores*"
      ]
    },
    {
      "cell_type": "code",
      "metadata": {
        "id": "X3JuYgXNuH3A"
      },
      "source": [
        "x = 2\n",
        "print(x == 2) # prints out True\n",
        "print(x == 3) # prints out False\n",
        "print(x < 3) # prints out True"
      ],
      "execution_count": null,
      "outputs": []
    },
    {
      "cell_type": "markdown",
      "metadata": {
        "id": "MFDkKXlKruYy"
      },
      "source": [
        "# Operadores de comparación\n",
        "Estos operadores nos permiten realizar evaluanciones de comparacion entre dos valores(literales o variables)"
      ]
    },
    {
      "cell_type": "code",
      "metadata": {
        "id": "5Q1IDX-wsM8y"
      },
      "source": [
        "x = 10\n",
        "y = 20\n",
        "print(x != y)               # x is not equal to y\n",
        "print(x > y)                # x is greater than y\n",
        "print(x < y)                # x is less than y\n",
        "print(x >= y)               # x is greater than or equal to y\n",
        "print(x <= y)               # x is less than or equal to y\n",
        "print(x is y)               # x is the same as y\n",
        "print(x is not y)           # x is not the same as y"
      ],
      "execution_count": null,
      "outputs": []
    },
    {
      "cell_type": "markdown",
      "metadata": {
        "id": "ATActeXuQVMv"
      },
      "source": [
        "# Operadores Lógicos o Booleanos\n",
        "\n",
        "Son los operadores que nos permiten crear expresiones complejas combinando dos o mas comparaciones.\n",
        "## And (\"Y\" lógico)\n",
        "\n",
        "Todos los operandos deben ser verdaderos para que la expresion sea verdadera. Es como una multiplicacion de 0's y 1's. Cualquier 0 en la multiplicación lleva el resultado a 0"
      ]
    },
    {
      "cell_type": "code",
      "metadata": {
        "id": "xFMilHDMQevV"
      },
      "source": [
        "T = True\n",
        "F = False\n",
        "\n",
        "print( T and T ) ## imprime True\n",
        "print( T and F ) ## imprime False\n",
        "print( F and T ) ## imprime False\n",
        "print( F and F ) ## imprime False"
      ],
      "execution_count": null,
      "outputs": []
    },
    {
      "cell_type": "markdown",
      "metadata": {
        "id": "3PelTq0gSe9Q"
      },
      "source": [
        "## Or (\"O\" lógico)\n",
        "\n",
        "\n",
        "Cualquier operador verdadero hace que la expresión sea verdadera. Es como una suma de 0's y 1's. Cualquier 1 en la suma lleva el resultado a 1"
      ]
    },
    {
      "cell_type": "code",
      "metadata": {
        "id": "D8fQfSJsSkAl"
      },
      "source": [
        "T = True\n",
        "F = False\n",
        "\n",
        "print( T or T ) ## imprime True\n",
        "print( T or F ) ## imprime True\n",
        "print( F or T ) ## imprime True\n",
        "print( F or F ) ## imprime False"
      ],
      "execution_count": null,
      "outputs": []
    },
    {
      "cell_type": "markdown",
      "metadata": {
        "id": "bVM6mUOFZ7_R"
      },
      "source": [
        "## Xor (\"O exclusivo\" lógico)\n",
        "\n",
        "\n",
        "Este operador requiere que solo uno de los operandos sea verdadero para que la evaluación sea verdadera"
      ]
    },
    {
      "cell_type": "code",
      "metadata": {
        "id": "eX8uVu2BaPE3"
      },
      "source": [
        "T = True\n",
        "F = False\n",
        "\n",
        "print( T ^ T ) ## imprime False\n",
        "print( T ^ F ) ## imprime True\n",
        "print( F ^ T ) ## imprime True\n",
        "print( F ^ F ) ## imprime False"
      ],
      "execution_count": null,
      "outputs": []
    },
    {
      "cell_type": "markdown",
      "metadata": {
        "id": "IsRZI9mNQfjz"
      },
      "source": [
        "# Operador \"IN\"\n",
        "\n",
        "El operador `IN` permite comprobar si hay un elemento dentro de una Lista"
      ]
    },
    {
      "cell_type": "code",
      "metadata": {
        "id": "8rSRw3rjQf96"
      },
      "source": [
        "nameJohn = \"John\"\n",
        "nameMarie = \"Marie\"\n",
        "print(nameJohn in [\"John\", \"Rick\"])\n",
        "print(nameMarie in [\"John\", \"Rick\"])"
      ],
      "execution_count": null,
      "outputs": []
    },
    {
      "cell_type": "markdown",
      "metadata": {
        "id": "5fnnhtGhQgeH"
      },
      "source": [
        "# Operador \"IS\"\n",
        "\n",
        "El operador IS no compara valores, si no que compara instancias. Esto quiere decir que \"la cosa\" que estamos comparando debe ser \"esa misma cosa\", o como tiene mas sentido en un programa dos referencias a una misma cosa, son la misma cosa, JA!!"
      ]
    },
    {
      "cell_type": "code",
      "metadata": {
        "id": "b1ub3csoRPpq"
      },
      "source": [
        "x = [1,2,3]\n",
        "y = [1,2,3]\n",
        "z = y\n",
        "print(x == y) # Prints out True\n",
        "print(x is y) # Prints out False\n",
        "print(z is y) # Prints out True"
      ],
      "execution_count": null,
      "outputs": []
    },
    {
      "cell_type": "markdown",
      "metadata": {
        "id": "YN0NfumsQnNC"
      },
      "source": [
        "# Operador \"NOT\""
      ]
    },
    {
      "cell_type": "code",
      "metadata": {
        "id": "WX3nRseDQqGT"
      },
      "source": [
        "print(not False) # Prints out True\n",
        "print((not False) == (False)) # Prints out False"
      ],
      "execution_count": null,
      "outputs": []
    },
    {
      "cell_type": "markdown",
      "metadata": {
        "id": "5Is87vtSvgkm"
      },
      "source": [
        "# Ejecución condicional\n",
        "Es muy común en un programa que ciertos fragmentos de codigo solo se ejecuten si una condicion es verdadera. Asi mismo, es tambien util poder ejecutar una seccion de codigo cuando una condicion es Verdadera y otro codigo cuando la misma condicion es falsa"
      ]
    },
    {
      "cell_type": "code",
      "metadata": {
        "id": "zS9erH4Fv4VM"
      },
      "source": [
        "name = \"Marie\"\n",
        "miListaDeNombres = [\"John\", \"Rick\"]\n",
        "\n",
        "if name in miListaDeNombres:\n",
        "    print(\"Su nombre es John o Rick.\")\n",
        "else:\n",
        "    print(\"Su nombre no es ni John ni Rick.\")"
      ],
      "execution_count": null,
      "outputs": []
    },
    {
      "cell_type": "code",
      "metadata": {
        "id": "3zLzUP7yyACs",
        "outputId": "0392579d-90b1-451d-c5c6-8d2f274e5741",
        "colab": {
          "base_uri": "https://localhost:8080/"
        }
      },
      "source": [
        "# marie tiene cosas en la casa\n",
        "# mi lista de compras\n",
        "# si no hay durazno en casa lo agrego a la lista\n",
        "\n",
        "# si tengo durazno en casa, estoy contento\n",
        "# si no tengo durazno, quiero comprar\n",
        "\n",
        "listaDeCosasEnCasa = [\"Peras\",\"Durazno\"]\n",
        "listaDeCompras = [\"Leche\"]\n",
        "queQuiero = \"Durazno\"\n",
        "\n",
        "if queQuiero in listaDeCosasEnCasa:\n",
        "  print(\"Genial, no tengo que salir a comprar los durzanos\")\n",
        "else:\n",
        "  print(\"Marie, comprame Duraznos!!!\")\n",
        "  listaDeCompras.append(queQuiero)\n",
        "\n",
        "print(listaDeCompras)\n",
        "\n"
      ],
      "execution_count": 1,
      "outputs": [
        {
          "output_type": "stream",
          "name": "stdout",
          "text": [
            "Genial, no tengo que salir a comprar los durzanos\n",
            "['Leche']\n"
          ]
        }
      ]
    },
    {
      "cell_type": "code",
      "metadata": {
        "id": "Rh3aKXszx_4l"
      },
      "source": [],
      "execution_count": null,
      "outputs": []
    },
    {
      "cell_type": "markdown",
      "metadata": {
        "id": "DTK_0hBx05Gl"
      },
      "source": [
        "# Ciclos o Loops o Bucles\n",
        "\n",
        "Otra de las estrucutras tipicas que utilizamos al programar es la repeticion de fragmentos de codigo. Python propone dos formas basicas: FOR y WHILE"
      ]
    },
    {
      "cell_type": "markdown",
      "metadata": {
        "id": "bejVlUJgwwNq"
      },
      "source": [
        "# Ciclo For\n",
        "\n",
        "Un ciclo `for` determinará un bloque de código que se ejecutará una vez por cada elemento que exista en su definición."
      ]
    },
    {
      "cell_type": "markdown",
      "metadata": {
        "id": "3Vm8DxVGxNUP"
      },
      "source": [
        "## Explicamelo con un ejemplo\n",
        "\n",
        "Si tengo una variable con una lista de artículos a comprar, y deseo mostrar en pantalla la leyenda `Tengo que comprar` y luego el artículo, en vez de escribir la instruccion para mostrar en pantalla para cada uno de los artículos, solo lo escribiré una vez y lo pondré dentro del ciclo `for` que se interpretará de esta manera:\n",
        "\n",
        "```\n",
        "Mi lista de compras esta compuesta por \"Cafe\" , \"Galletitas\", \"Caramelos\", \"Cuaderno\"\n",
        "Por cada artículo que exista en mi lista de compras , llamalo 'a' y realiza lo siguiente :\n",
        "  Escribir en pantalla \"Tengo que comprar\" seguido de `a`\n",
        "```\n",
        "\n",
        "En la siguiente sección, está el código que hace eso mismo en python. Haz click en el botón de play para ver como funciona. Luego cambia la lista de compras y el mensaje para que de diferentes resultados."
      ]
    },
    {
      "cell_type": "code",
      "metadata": {
        "id": "U-kXDOu8xQt6"
      },
      "source": [
        "\n",
        "irALaLibreria = False\n",
        "compras=[\"Cafe\",\"Galletitas\",\"Caramelos\",\"Leche\"]\n",
        "for producto in compras:\n",
        "  print(\"Tengo que comprar\", producto)\n",
        "  if producto == \"Cuaderno\":\n",
        "    irALaLibreria = True\n",
        "\n",
        "if irALaLibreria:\n",
        "  print(\"Ir al almacen y a la libreria\")\n",
        "else:\n",
        "  print(\"ir al almacen\")"
      ],
      "execution_count": null,
      "outputs": []
    },
    {
      "cell_type": "markdown",
      "metadata": {
        "id": "-xD9Pi9JxcV8"
      },
      "source": [
        "## La función Range\n",
        "\n",
        "Un ciclo `for` se puede utilizar también para hacer cosas una cierta cantidad de veces, aunque no exista una lista.\n",
        "\n",
        "De esta manera, si tuvieramos que mostrar en pantalla 10 lineas con los símbolos `-------` podríamos hacerlo indicando lo siguiente:\n",
        "\n",
        "```\n",
        "Repite el siguiente procedimiento 10 veces:\n",
        "  Muestra en pantalla `-------`\n",
        "```\n",
        "\n",
        "Miremos como se ve eso en python."
      ]
    },
    {
      "cell_type": "code",
      "metadata": {
        "id": "56XZkFBDxdrg"
      },
      "source": [
        "for i in range(5):\n",
        "  print(\"-------\")\n",
        "\n",
        "#print(\"-------\")\n",
        "#print(\"-------\")\n",
        "#print(\"-------\")\n",
        "#print(\"-------\")\n",
        "\n",
        "# range es mas que solo eso...\n",
        "inicio=2\n",
        "fin=15\n",
        "salto=2\n",
        "for i in range(inicio,fin,salto):\n",
        "  # los parametros de range son:\n",
        "  # Inicio: un numero entero. que por defecto es 0\n",
        "  # Maximo: un numero entero que indica el limite superior del rango. OJO: el limite no esta incluido en el rango\n",
        "  # Salto(o Step): es la cantidad de unidades en que se incrementa el rango\n",
        "  print(i)"
      ],
      "execution_count": null,
      "outputs": []
    },
    {
      "cell_type": "markdown",
      "metadata": {
        "id": "cj-1t2RHxyS7"
      },
      "source": [
        "### Ejercicio\n",
        "\n",
        "(2) Como harías para mostrar la tabla del 6, pero incluyendo desde el 0 hasta el 20?\n",
        "\n",
        "(3) Este es para resolver después de clases como tarea para el hogar porque es mas largo: Como harías para mostrar en pantalla los primeros 15 números de la sucesión de Fibonacci."
      ]
    },
    {
      "cell_type": "code",
      "metadata": {
        "id": "hgHTa0o_xzXH",
        "outputId": "3bc48e13-c3f8-446b-8372-f8c3d8817ad9",
        "colab": {
          "base_uri": "https://localhost:8080/"
        }
      },
      "source": [
        "for i in range(21):\n",
        "  print(f\"6 x {i} = {i*6}\" )"
      ],
      "execution_count": 4,
      "outputs": [
        {
          "output_type": "stream",
          "name": "stdout",
          "text": [
            "6 x 0 = 0\n",
            "6 x 1 = 6\n",
            "6 x 2 = 12\n",
            "6 x 3 = 18\n",
            "6 x 4 = 24\n",
            "6 x 5 = 30\n",
            "6 x 6 = 36\n",
            "6 x 7 = 42\n",
            "6 x 8 = 48\n",
            "6 x 9 = 54\n",
            "6 x 10 = 60\n",
            "6 x 11 = 66\n",
            "6 x 12 = 72\n",
            "6 x 13 = 78\n",
            "6 x 14 = 84\n",
            "6 x 15 = 90\n",
            "6 x 16 = 96\n",
            "6 x 17 = 102\n",
            "6 x 18 = 108\n",
            "6 x 19 = 114\n",
            "6 x 20 = 120\n"
          ]
        }
      ]
    },
    {
      "cell_type": "markdown",
      "metadata": {
        "id": "CP1mrryyx4aQ"
      },
      "source": [
        "# Ciclo While\n",
        "\n",
        "Un ciclo `while` determinará un conjunto de código que se ejecutará mientras se cumpla una condición específica en su definición.\n",
        "\n",
        "## Explicamelo con un ejemplo\n",
        "\n",
        "Quiero sumar en una variable un número a si mismo todas las veces necesarias hasta que el resultado sea mayor a otra variable. En vez de escribir las sumas una debajo de la otra y escribir `if`s que luego de cada suman vean si es mayor al número de la segunda variable, puedo hacer un ciclo while indicando algo como esto:\n",
        "\n",
        "```\n",
        "Mi numero máximo es 17\n",
        "Mi numero a sumar es 3\n",
        "La acumulación de los números empieza de 0\n",
        "Mientras la acumulación sea menor a mi número máximo:\n",
        "  la acumulación es igual a la acumulación mas el número a sumar (3)\n",
        "  mostrar en pantalla el valor de la acumulación\n",
        "```\n",
        "\n",
        "En la siguiente sección, está el código que hace eso mismo en python. Haz click en el botón de play para ver como funciona. Luego cambia la lista de compras y el mensaje para que de diferentes resultados.\n"
      ]
    },
    {
      "cell_type": "code",
      "metadata": {
        "id": "ftF9x0pgx5cp",
        "outputId": "b50f86ab-521f-4f0b-e4ae-e933ed3f9f5a",
        "colab": {
          "base_uri": "https://localhost:8080/"
        }
      },
      "source": [
        "max = 17\n",
        "num = 3\n",
        "acum = 0\n",
        "while acum < max:\n",
        "  print(acum)\n",
        "  acum = acum + num"
      ],
      "execution_count": 5,
      "outputs": [
        {
          "output_type": "stream",
          "name": "stdout",
          "text": [
            "0\n",
            "3\n",
            "6\n",
            "9\n",
            "12\n",
            "15\n"
          ]
        }
      ]
    },
    {
      "cell_type": "markdown",
      "metadata": {
        "id": "4zQYzpfOx_87"
      },
      "source": [
        "Pregunta para discutir: porque esto muestra dentro del los resultados el número 18??\n",
        "\n",
        "## Ejercicio\n",
        "\n",
        "(1) Como harías con un ciclo while para mostrar en pantalla  todos los múltiplos del 7 menores que 40?"
      ]
    },
    {
      "cell_type": "code",
      "metadata": {
        "id": "VHJu8b2KyAmw",
        "outputId": "fa68d253-db37-4934-d80b-69e46cbdf704",
        "colab": {
          "base_uri": "https://localhost:8080/"
        }
      },
      "source": [
        "max = 40\n",
        "num=7\n",
        "acum=0\n",
        "while (acum*num) < max:\n",
        "  print(f\"7 X {acum} = {acum*num}\")\n",
        "  acum+=1"
      ],
      "execution_count": 22,
      "outputs": [
        {
          "output_type": "stream",
          "name": "stdout",
          "text": [
            "7 X 0 = 0\n",
            "7 X 1 = 7\n",
            "7 X 2 = 14\n",
            "7 X 3 = 21\n",
            "7 X 4 = 28\n",
            "7 X 5 = 35\n"
          ]
        }
      ]
    },
    {
      "cell_type": "markdown",
      "metadata": {
        "id": "_AOOShyO22el"
      },
      "source": [
        "\n",
        "> Un concepto fundamental al usar ciclos While es controlar la condicion de entrada y de salida y tener en cuanta que la evaluacion de la condicion para ejecutar el codigo se realiza siempre al principio de la estructura y se va modificando dentro del bloque\n",
        "\n",
        "## Que dijiste!!!?!???\n",
        "Con codigo se entiende mejor:\n"
      ]
    },
    {
      "cell_type": "code",
      "metadata": {
        "id": "z91dS0Qd3F8o",
        "outputId": "eb929114-0112-4154-a630-1ce1ca1f408c",
        "colab": {
          "base_uri": "https://localhost:8080/"
        }
      },
      "source": [
        "# el valor inicial y la condicion de ejecucion son tales que jamas el ciclo se va a ejecutar\n",
        "valor = 0\n",
        "\n",
        "while(valor > 1 and valor < 50):\n",
        "  print (valor)\n",
        "  valor +=1\n",
        "else:\n",
        "  print(\"nunca es mayor 1\")"
      ],
      "execution_count": 23,
      "outputs": [
        {
          "output_type": "stream",
          "name": "stdout",
          "text": [
            "nunca es mayor 1\n"
          ]
        }
      ]
    },
    {
      "cell_type": "code",
      "metadata": {
        "id": "zWRnNwCq4B1f",
        "outputId": "8779397f-da7c-4098-d37d-c8c940950f02",
        "colab": {
          "base_uri": "https://localhost:8080/"
        }
      },
      "source": [
        "# en esta situacion si se va a ejecutar y nos mostrara valores hasta el 10\n",
        "valor = 1\n",
        "\n",
        "while(valor > 0):\n",
        "  print (valor)\n",
        "  if (valor == 10):\n",
        "    break\n",
        "  valor +=1\n",
        "else:\n",
        "  print(\"no vale 1\")"
      ],
      "execution_count": 24,
      "outputs": [
        {
          "output_type": "stream",
          "name": "stdout",
          "text": [
            "1\n",
            "2\n",
            "3\n",
            "4\n",
            "5\n",
            "6\n",
            "7\n",
            "8\n",
            "9\n",
            "10\n"
          ]
        }
      ]
    },
    {
      "cell_type": "code",
      "metadata": {
        "id": "lChT0dKO4WWK",
        "outputId": "0612967a-cd7c-47dd-c949-1a5a59e4d38b",
        "colab": {
          "base_uri": "https://localhost:8080/"
        }
      },
      "source": [
        "# en esta situacion si se va a ejecutar y queremos que muestre numero mientras el valor sea menor o igual a 10\n",
        "# pero....porque muestra el 11?\n",
        "\n",
        "valor = 1\n",
        "\n",
        "while(valor <= 10):\n",
        "  print (valor)\n",
        "  valor +=1\n"
      ],
      "execution_count": 26,
      "outputs": [
        {
          "output_type": "stream",
          "name": "stdout",
          "text": [
            "1\n",
            "2\n",
            "3\n",
            "4\n",
            "5\n",
            "6\n",
            "7\n",
            "8\n",
            "9\n",
            "10\n"
          ]
        }
      ]
    },
    {
      "cell_type": "markdown",
      "metadata": {
        "id": "GF3KjtQPyEPk"
      },
      "source": [
        "## Break: quiero bajarme antes!\n",
        "\n",
        "Si dentro de nuestro ciclo while necesitamos detener el ciclo por alguna razón, podemos hacerlo con `break`.\n",
        "\n",
        "Entonces, si tuvieramos que sumar un número a si mismo como en la primer demostración mientras la suma fuera menor a un máximo, pero detenernos y salir del ciclo si en algún momento la suma da un determinado valor, podríamos decir algo así:\n",
        "\n",
        "\n",
        "\n",
        "```\n",
        "Empiezo un ciclo INFINITO\n",
        "Le pido al usuario que ingrese una palabra\n",
        "Si la palabra es \"FIN\" termino el ciclo\n",
        "Imprimo en pantalla la palabra\n",
        "Cuando salgo del ciclo imprimo \"LISTO!\"\n",
        "```\n",
        "\n",
        "Así se ve esto mismo en python\n"
      ]
    },
    {
      "cell_type": "code",
      "metadata": {
        "id": "GVbrOQHdyFBY",
        "outputId": "820e6528-e67b-4bc0-b368-ca1310583fe4",
        "colab": {
          "base_uri": "https://localhost:8080/"
        }
      },
      "source": [
        "while True:\n",
        "    line = input('> ')\n",
        "    if line.upper() == 'FIN': #.upper() para minuscula y .lower() para mayuscula\n",
        "        break\n",
        "    print(line)\n",
        "print('LISTO!')\n",
        "\n"
      ],
      "execution_count": 29,
      "outputs": [
        {
          "output_type": "stream",
          "name": "stdout",
          "text": [
            "> BLA\n",
            "BLA\n",
            "> ble\n",
            "ble\n",
            "> fin\n",
            "LISTO!\n"
          ]
        }
      ]
    },
    {
      "cell_type": "markdown",
      "metadata": {
        "id": "p1e01ZWL0DPh"
      },
      "source": [
        "## Continue: no me importa, dame el próximo!\n",
        "\n",
        "Similar a la opción de `break` podemos tener una condición por la que no queramos que este ciclo continúe, pero no queremos detener toda la ejecución, solo queremos saltearnos este ciclo y pasar al siguiente. Esto se hace con `continue`.\n",
        "\n",
        "Entonces, si queremos hacer lo que hacíamos con el break ,pero en vez de detenernos en el número mágico 9 , solo saltear el comando que lo muestra en pantalla, podríamos hacer esto:\n",
        "\n",
        "```\n",
        "Empiezo un ciclo INFINITO\n",
        "Le pido al usuario que ingrese una palabra\n",
        "Si la palabra es \"FIN\" termino el ciclo\n",
        "Si el texto comienza con #, vuelvo al inicio del ciclo\n",
        "Imprimo en pantalla la palabra\n",
        "Cuando salgo del ciclo imprimo \"LISTO!\"\n",
        "```\n",
        "\n",
        "Esto en python se vería de la siguiente manera:\n"
      ]
    },
    {
      "cell_type": "code",
      "metadata": {
        "id": "bR9PrHBZ0Dq9",
        "outputId": "eaa9375c-3865-48a5-d55e-498a180570ce",
        "colab": {
          "base_uri": "https://localhost:8080/"
        }
      },
      "source": [
        "while True:\n",
        "    line = input('> ')\n",
        "    if line[0] == '#':\n",
        "        continue\n",
        "    if line == 'FIN':\n",
        "        break\n",
        "    print(line)\n",
        "print('LISTO!')"
      ],
      "execution_count": 35,
      "outputs": [
        {
          "output_type": "stream",
          "name": "stdout",
          "text": [
            "> 2\n",
            "2\n",
            "> 3\n",
            "3\n",
            "> #\n",
            "> FIN\n",
            "LISTO!\n"
          ]
        }
      ]
    },
    {
      "cell_type": "markdown",
      "metadata": {
        "id": "j0PMKyESH6wI"
      },
      "source": [
        "# **Bloque 4**"
      ]
    },
    {
      "cell_type": "markdown",
      "metadata": {
        "id": "3O06T9xRJjqY"
      },
      "source": [
        "#Ejercicios\n"
      ]
    },
    {
      "cell_type": "markdown",
      "metadata": {
        "id": "sbteyrmSPlth"
      },
      "source": [
        "1. Escribir un programa que permita ingresar 3 numeros enteros al usuario, y verifique si los 3 son iguales, si hay 2 iguales o si son todos diferentes"
      ]
    },
    {
      "cell_type": "code",
      "source": [],
      "metadata": {
        "id": "wDNHEsykkfU3"
      },
      "execution_count": null,
      "outputs": []
    },
    {
      "cell_type": "code",
      "metadata": {
        "id": "MAtmeToyPmYn",
        "outputId": "52606b41-6025-4573-89eb-fd2cb2a84890",
        "colab": {
          "base_uri": "https://localhost:8080/"
        }
      },
      "source": [
        "entero1 = int(input(\"Ingrese su primer numero: \"))\n",
        "entero2 = int(input(\"Ingrese su segundo numero: \"))\n",
        "entero3 = int(input(\"Ingrese su tercer numero: \"))\n",
        "if entero1 ==entero2 and entero2== entero3:\n",
        "  print(\"Los tres numeros ingresados son iguales.\")\n",
        "elif entero1 ==entero2 or entero2== entero3:\n",
        "  print(\"Hay dos numeros ingresados que son iguales.\")\n",
        "else:\n",
        "  print(\"Todos los numeros ingresados son diferentes.\")"
      ],
      "execution_count": 46,
      "outputs": [
        {
          "output_type": "stream",
          "name": "stdout",
          "text": [
            "Ingrese su primer numero: 1\n",
            "Ingrese su segundo numero: 1\n",
            "Ingrese su tercer numero: 1\n",
            "Los tres numeros ingresados son iguales.\n"
          ]
        }
      ]
    },
    {
      "cell_type": "markdown",
      "metadata": {
        "id": "LFgIYC6CRZ4x"
      },
      "source": [
        "2. Escribir un programa que:\n",
        "* pida al usuario dos numeros enteros\n",
        "* verifique que no sean iguales y que esten al menos a 15 unidades de distancia\n",
        "* muestre los numeros multiplos de 3 entre dichos numeros(incluyendo los extremos)\n",
        "* muestre hasta 4 numeros por linea"
      ]
    },
    {
      "cell_type": "code",
      "metadata": {
        "id": "mDsWFfWHSFJt",
        "outputId": "f5089ca8-e967-4ede-e632-a2f4bd1aabed",
        "colab": {
          "base_uri": "https://localhost:8080/",
          "height": 245
        }
      },
      "source": [
        "n1 = int(input(\"Ingrese su primer numero: \"))\n",
        "n2 = int(input(\"Ingrese su segundo numero: \"))\n",
        "linea=0\n",
        "if n1!=n2 and abs(n1-n2)>=15:\n",
        "    for i in range(min(n1,n2), max(n1,n2)+1):\n",
        "      if i%3==0:\n",
        "        print(i, end=\" \")\n",
        "        linea+=1\n",
        "        if linea==4:\n",
        "          print()\n",
        "          linea = 0\n",
        "else:\n",
        "  print(\"Los numeros deben ser distintos y deben tener 15 UNIDADES de distancia.\")"
      ],
      "execution_count": 60,
      "outputs": [
        {
          "name": "stdout",
          "output_type": "stream",
          "text": [
            "Ingrese su primer numero: 2\n",
            "Ingrese su segundo numero: 17\n"
          ]
        },
        {
          "output_type": "error",
          "ename": "TypeError",
          "evalue": "'int' object is not callable",
          "traceback": [
            "\u001b[0;31m---------------------------------------------------------------------------\u001b[0m",
            "\u001b[0;31mTypeError\u001b[0m                                 Traceback (most recent call last)",
            "\u001b[0;32m/tmp/ipython-input-1267190018.py\u001b[0m in \u001b[0;36m<cell line: 0>\u001b[0;34m()\u001b[0m\n\u001b[1;32m      3\u001b[0m \u001b[0mlinea\u001b[0m\u001b[0;34m=\u001b[0m\u001b[0;36m0\u001b[0m\u001b[0;34m\u001b[0m\u001b[0;34m\u001b[0m\u001b[0m\n\u001b[1;32m      4\u001b[0m \u001b[0;32mif\u001b[0m \u001b[0mn1\u001b[0m\u001b[0;34m!=\u001b[0m\u001b[0mn2\u001b[0m \u001b[0;32mand\u001b[0m \u001b[0mabs\u001b[0m\u001b[0;34m(\u001b[0m\u001b[0mn1\u001b[0m\u001b[0;34m-\u001b[0m\u001b[0mn2\u001b[0m\u001b[0;34m)\u001b[0m\u001b[0;34m>=\u001b[0m\u001b[0;36m15\u001b[0m\u001b[0;34m:\u001b[0m\u001b[0;34m\u001b[0m\u001b[0;34m\u001b[0m\u001b[0m\n\u001b[0;32m----> 5\u001b[0;31m     \u001b[0;32mfor\u001b[0m \u001b[0mi\u001b[0m \u001b[0;32min\u001b[0m \u001b[0mrange\u001b[0m\u001b[0;34m(\u001b[0m\u001b[0mmin\u001b[0m\u001b[0;34m(\u001b[0m\u001b[0mn1\u001b[0m\u001b[0;34m,\u001b[0m\u001b[0mn2\u001b[0m\u001b[0;34m)\u001b[0m\u001b[0;34m,\u001b[0m \u001b[0mmax\u001b[0m\u001b[0;34m(\u001b[0m\u001b[0mn1\u001b[0m\u001b[0;34m,\u001b[0m\u001b[0mn2\u001b[0m\u001b[0;34m)\u001b[0m\u001b[0;34m+\u001b[0m\u001b[0;36m1\u001b[0m\u001b[0;34m)\u001b[0m\u001b[0;34m:\u001b[0m\u001b[0;34m\u001b[0m\u001b[0;34m\u001b[0m\u001b[0m\n\u001b[0m\u001b[1;32m      6\u001b[0m       \u001b[0;32mif\u001b[0m \u001b[0mi\u001b[0m\u001b[0;34m%\u001b[0m\u001b[0;36m3\u001b[0m\u001b[0;34m==\u001b[0m\u001b[0;36m0\u001b[0m\u001b[0;34m:\u001b[0m\u001b[0;34m\u001b[0m\u001b[0;34m\u001b[0m\u001b[0m\n\u001b[1;32m      7\u001b[0m         \u001b[0mprint\u001b[0m\u001b[0;34m(\u001b[0m\u001b[0mi\u001b[0m\u001b[0;34m,\u001b[0m \u001b[0mend\u001b[0m\u001b[0;34m=\u001b[0m\u001b[0;34m\" \"\u001b[0m\u001b[0;34m)\u001b[0m\u001b[0;34m\u001b[0m\u001b[0;34m\u001b[0m\u001b[0m\n",
            "\u001b[0;31mTypeError\u001b[0m: 'int' object is not callable"
          ]
        }
      ]
    },
    {
      "cell_type": "markdown",
      "metadata": {
        "id": "4w8MJnf3S22b"
      },
      "source": [
        "3. Escribir un programa que le pida al usuario ingresar un texto libre de al menos 20 palabras. Luego le pedira una palabra mas. Por ultimo el programa debe contar la cantidad de veces que aparece dicha palabra en el texto original. No considerar distincion de mayusculas/minusculas"
      ]
    },
    {
      "cell_type": "code",
      "metadata": {
        "id": "FSOSsmFvS4Ir"
      },
      "source": [],
      "execution_count": null,
      "outputs": []
    },
    {
      "cell_type": "markdown",
      "source": [
        "4. Escribir una funcion que \"encripte\" una palabra cambiando las vocales por los numeros de dicha vocal: A=1, E=2, I=3, O=4, U=5"
      ],
      "metadata": {
        "id": "aepIu6FCTSmn"
      }
    },
    {
      "cell_type": "code",
      "source": [],
      "metadata": {
        "id": "Ae79GY9RTL4u"
      },
      "execution_count": null,
      "outputs": []
    },
    {
      "cell_type": "markdown",
      "source": [
        "5. Escribir una funcion que \"desencripte\" una palabra que fue encriptada por la primera funcion: A=1, E=2, I=3, O=4, U=5"
      ],
      "metadata": {
        "id": "piTet3ZyTWqN"
      }
    },
    {
      "cell_type": "code",
      "source": [],
      "metadata": {
        "id": "S7z9m2fsTa31"
      },
      "execution_count": null,
      "outputs": []
    },
    {
      "cell_type": "markdown",
      "source": [
        "6. Escribir una funcion a la que se le pasa un texto de multiples palabras y un parametro que diga si hay que (E)ncriptar o (D)esencriptar el mensaje"
      ],
      "metadata": {
        "id": "EuJI_7duTbXv"
      }
    },
    {
      "cell_type": "code",
      "source": [],
      "metadata": {
        "id": "1bkloXPsTihl"
      },
      "execution_count": null,
      "outputs": []
    },
    {
      "cell_type": "markdown",
      "source": [
        "7. Pedirle a un usaurio que ingrese su nombre, un destinatario, y un texto y luego muestre el mensaje encriptado."
      ],
      "metadata": {
        "id": "esb_rsqNTi38"
      }
    },
    {
      "cell_type": "code",
      "source": [],
      "metadata": {
        "id": "fKjM-HKkTlT7"
      },
      "execution_count": null,
      "outputs": []
    },
    {
      "cell_type": "markdown",
      "metadata": {
        "id": "GunwRBvJKEh1"
      },
      "source": [
        "8. Pedirle a \"otro\" usuario que escriba su propio nombre. Si su nombre es igual al destinatario del mensaje, el programa le debe mostrar el mensaje desencriptado. si lo debe acusar de espia!"
      ]
    },
    {
      "cell_type": "code",
      "metadata": {
        "id": "ycdxqX3FPMl1"
      },
      "source": [],
      "execution_count": null,
      "outputs": []
    },
    {
      "cell_type": "markdown",
      "metadata": {
        "id": "bKKOcZgeIAfq"
      },
      "source": [
        "# **Bloque 5**"
      ]
    },
    {
      "cell_type": "markdown",
      "metadata": {
        "id": "xq_-Dk10KDvT"
      },
      "source": [
        "Puesta en comun"
      ]
    }
  ]
}