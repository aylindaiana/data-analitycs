{
  "nbformat": 4,
  "nbformat_minor": 0,
  "metadata": {
    "colab": {
      "provenance": [],
      "include_colab_link": true
    },
    "kernelspec": {
      "name": "python3",
      "display_name": "Python 3"
    }
  },
  "cells": [
    {
      "cell_type": "markdown",
      "metadata": {
        "id": "view-in-github",
        "colab_type": "text"
      },
      "source": [
        "<a href=\"https://colab.research.google.com/github/aylindaiana/CargaUsuario/blob/main/%5BAlumnos%5D_PESCAR_FY26_Programaci%C3%B3n_Clase_1.ipynb\" target=\"_parent\"><img src=\"https://colab.research.google.com/assets/colab-badge.svg\" alt=\"Open In Colab\"/></a>"
      ]
    },
    {
      "cell_type": "markdown",
      "metadata": {
        "id": "gn6bEg3-uUg3"
      },
      "source": [
        "# Pescar - Clase 1 - Introducción a la programación en Python"
      ]
    },
    {
      "cell_type": "code",
      "source": [
        "from google.colab import drive\n",
        "drive.mount('/content/drive')"
      ],
      "metadata": {
        "id": "w4HD0d2OamuU",
        "colab": {
          "base_uri": "https://localhost:8080/",
          "height": 317
        },
        "outputId": "97dda016-a3c7-4c25-d57e-5a9dc7857e3d"
      },
      "execution_count": 1,
      "outputs": [
        {
          "output_type": "error",
          "ename": "MessageError",
          "evalue": "Error: credential propagation was unsuccessful",
          "traceback": [
            "\u001b[0;31m---------------------------------------------------------------------------\u001b[0m",
            "\u001b[0;31mMessageError\u001b[0m                              Traceback (most recent call last)",
            "\u001b[0;32m/tmp/ipython-input-1408506528.py\u001b[0m in \u001b[0;36m<cell line: 0>\u001b[0;34m()\u001b[0m\n\u001b[1;32m      1\u001b[0m \u001b[0;32mfrom\u001b[0m \u001b[0mgoogle\u001b[0m\u001b[0;34m.\u001b[0m\u001b[0mcolab\u001b[0m \u001b[0;32mimport\u001b[0m \u001b[0mdrive\u001b[0m\u001b[0;34m\u001b[0m\u001b[0;34m\u001b[0m\u001b[0m\n\u001b[0;32m----> 2\u001b[0;31m \u001b[0mdrive\u001b[0m\u001b[0;34m.\u001b[0m\u001b[0mmount\u001b[0m\u001b[0;34m(\u001b[0m\u001b[0;34m'/content/drive'\u001b[0m\u001b[0;34m)\u001b[0m\u001b[0;34m\u001b[0m\u001b[0;34m\u001b[0m\u001b[0m\n\u001b[0m",
            "\u001b[0;32m/usr/local/lib/python3.12/dist-packages/google/colab/drive.py\u001b[0m in \u001b[0;36mmount\u001b[0;34m(mountpoint, force_remount, timeout_ms, readonly)\u001b[0m\n\u001b[1;32m     95\u001b[0m \u001b[0;32mdef\u001b[0m \u001b[0mmount\u001b[0m\u001b[0;34m(\u001b[0m\u001b[0mmountpoint\u001b[0m\u001b[0;34m,\u001b[0m \u001b[0mforce_remount\u001b[0m\u001b[0;34m=\u001b[0m\u001b[0;32mFalse\u001b[0m\u001b[0;34m,\u001b[0m \u001b[0mtimeout_ms\u001b[0m\u001b[0;34m=\u001b[0m\u001b[0;36m120000\u001b[0m\u001b[0;34m,\u001b[0m \u001b[0mreadonly\u001b[0m\u001b[0;34m=\u001b[0m\u001b[0;32mFalse\u001b[0m\u001b[0;34m)\u001b[0m\u001b[0;34m:\u001b[0m\u001b[0;34m\u001b[0m\u001b[0;34m\u001b[0m\u001b[0m\n\u001b[1;32m     96\u001b[0m   \u001b[0;34m\"\"\"Mount your Google Drive at the specified mountpoint path.\"\"\"\u001b[0m\u001b[0;34m\u001b[0m\u001b[0;34m\u001b[0m\u001b[0m\n\u001b[0;32m---> 97\u001b[0;31m   return _mount(\n\u001b[0m\u001b[1;32m     98\u001b[0m       \u001b[0mmountpoint\u001b[0m\u001b[0;34m,\u001b[0m\u001b[0;34m\u001b[0m\u001b[0;34m\u001b[0m\u001b[0m\n\u001b[1;32m     99\u001b[0m       \u001b[0mforce_remount\u001b[0m\u001b[0;34m=\u001b[0m\u001b[0mforce_remount\u001b[0m\u001b[0;34m,\u001b[0m\u001b[0;34m\u001b[0m\u001b[0;34m\u001b[0m\u001b[0m\n",
            "\u001b[0;32m/usr/local/lib/python3.12/dist-packages/google/colab/drive.py\u001b[0m in \u001b[0;36m_mount\u001b[0;34m(mountpoint, force_remount, timeout_ms, ephemeral, readonly)\u001b[0m\n\u001b[1;32m    132\u001b[0m   )\n\u001b[1;32m    133\u001b[0m   \u001b[0;32mif\u001b[0m \u001b[0mephemeral\u001b[0m\u001b[0;34m:\u001b[0m\u001b[0;34m\u001b[0m\u001b[0;34m\u001b[0m\u001b[0m\n\u001b[0;32m--> 134\u001b[0;31m     _message.blocking_request(\n\u001b[0m\u001b[1;32m    135\u001b[0m         \u001b[0;34m'request_auth'\u001b[0m\u001b[0;34m,\u001b[0m\u001b[0;34m\u001b[0m\u001b[0;34m\u001b[0m\u001b[0m\n\u001b[1;32m    136\u001b[0m         \u001b[0mrequest\u001b[0m\u001b[0;34m=\u001b[0m\u001b[0;34m{\u001b[0m\u001b[0;34m'authType'\u001b[0m\u001b[0;34m:\u001b[0m \u001b[0;34m'dfs_ephemeral'\u001b[0m\u001b[0;34m}\u001b[0m\u001b[0;34m,\u001b[0m\u001b[0;34m\u001b[0m\u001b[0;34m\u001b[0m\u001b[0m\n",
            "\u001b[0;32m/usr/local/lib/python3.12/dist-packages/google/colab/_message.py\u001b[0m in \u001b[0;36mblocking_request\u001b[0;34m(request_type, request, timeout_sec, parent)\u001b[0m\n\u001b[1;32m    174\u001b[0m       \u001b[0mrequest_type\u001b[0m\u001b[0;34m,\u001b[0m \u001b[0mrequest\u001b[0m\u001b[0;34m,\u001b[0m \u001b[0mparent\u001b[0m\u001b[0;34m=\u001b[0m\u001b[0mparent\u001b[0m\u001b[0;34m,\u001b[0m \u001b[0mexpect_reply\u001b[0m\u001b[0;34m=\u001b[0m\u001b[0;32mTrue\u001b[0m\u001b[0;34m\u001b[0m\u001b[0;34m\u001b[0m\u001b[0m\n\u001b[1;32m    175\u001b[0m   )\n\u001b[0;32m--> 176\u001b[0;31m   \u001b[0;32mreturn\u001b[0m \u001b[0mread_reply_from_input\u001b[0m\u001b[0;34m(\u001b[0m\u001b[0mrequest_id\u001b[0m\u001b[0;34m,\u001b[0m \u001b[0mtimeout_sec\u001b[0m\u001b[0;34m)\u001b[0m\u001b[0;34m\u001b[0m\u001b[0;34m\u001b[0m\u001b[0m\n\u001b[0m",
            "\u001b[0;32m/usr/local/lib/python3.12/dist-packages/google/colab/_message.py\u001b[0m in \u001b[0;36mread_reply_from_input\u001b[0;34m(message_id, timeout_sec)\u001b[0m\n\u001b[1;32m    101\u001b[0m     ):\n\u001b[1;32m    102\u001b[0m       \u001b[0;32mif\u001b[0m \u001b[0;34m'error'\u001b[0m \u001b[0;32min\u001b[0m \u001b[0mreply\u001b[0m\u001b[0;34m:\u001b[0m\u001b[0;34m\u001b[0m\u001b[0;34m\u001b[0m\u001b[0m\n\u001b[0;32m--> 103\u001b[0;31m         \u001b[0;32mraise\u001b[0m \u001b[0mMessageError\u001b[0m\u001b[0;34m(\u001b[0m\u001b[0mreply\u001b[0m\u001b[0;34m[\u001b[0m\u001b[0;34m'error'\u001b[0m\u001b[0;34m]\u001b[0m\u001b[0;34m)\u001b[0m\u001b[0;34m\u001b[0m\u001b[0;34m\u001b[0m\u001b[0m\n\u001b[0m\u001b[1;32m    104\u001b[0m       \u001b[0;32mreturn\u001b[0m \u001b[0mreply\u001b[0m\u001b[0;34m.\u001b[0m\u001b[0mget\u001b[0m\u001b[0;34m(\u001b[0m\u001b[0;34m'data'\u001b[0m\u001b[0;34m,\u001b[0m \u001b[0;32mNone\u001b[0m\u001b[0;34m)\u001b[0m\u001b[0;34m\u001b[0m\u001b[0;34m\u001b[0m\u001b[0m\n\u001b[1;32m    105\u001b[0m \u001b[0;34m\u001b[0m\u001b[0m\n",
            "\u001b[0;31mMessageError\u001b[0m: Error: credential propagation was unsuccessful"
          ]
        }
      ]
    },
    {
      "cell_type": "markdown",
      "metadata": {
        "id": "lBMJiKmXIR-N"
      },
      "source": [
        "# **Bloque 1**"
      ]
    },
    {
      "cell_type": "markdown",
      "metadata": {
        "id": "9ELbbtY_J9Q-"
      },
      "source": [
        "Repaso con el equipo"
      ]
    },
    {
      "cell_type": "markdown",
      "metadata": {
        "id": "aBKE9cuDIRqh"
      },
      "source": [
        "# **Bloque 2**"
      ]
    },
    {
      "cell_type": "markdown",
      "metadata": {
        "id": "9RUAESvfy19y"
      },
      "source": [
        "# Repaso Teorico\n",
        "\n",
        "## Que es un lenguaje de programación?\n",
        "\n",
        "Es un lenguaje formal que nos permite, a través de un conjunto de datos e instrucciones llamadas algoritmos (codigo fuente), crear programas que controlen el comportamiento físico y lógico de una máquina.\n",
        "\n",
        "Y como todo lenguaje, un lenguaje de programacion esta compuesto por tres aspectos:\n",
        "\n",
        "1.   **Sintaxis**: el conjunto de símbolos y reglas para formar sentencias. La sintaxis generalmente responde a la pregunta: Como lo escribimos?\n",
        "2.   **Semántica**: las reglas para transformar sentencias en instrucciones lógicas. Es el significado de la instrucción y generalmente responde a las preguntas: ¿qué significa la instrucción? ¿Qué queremos lograr con la instrucción?\n",
        "3.   **Pragmática**: la relacion que tiene nuestro algoritmo o codigo con el contexto donde se desarrolla, es lo que nos permite darle solución a un problema considerando todas las variables que lo puedan afectar.\n",
        "\n",
        "Los lenguajes de programación se utilizan para crear sistemas operativos, programas de escritorio (como los utilitarios que usamos en nuestras computadoras), aplicaciones web, aplicaciones móviles, para resolver problemas complejos o interpretar datos. Algunos lenguajes de programación son más adecuados para ciertos tipos de aplicaciones dependiendo de lo que queremos hacer o el problema que queramos resolver.\n",
        "\n",
        "## Tipos de lenguajes de Programación\n",
        "\n",
        "Existen distintos  criterios para clasificar lenguajes de programación, pero uno de los mas importantes los clasfica en base a la forma en que ejecutan el codigo, asi tenemos 3 tipos de lenguajes de programación:\n",
        "\n",
        "1.   **Compilados**: Convierte nuestro algoritmo o codigo a lenguaje de maquina que puede ser entendido directamente por el computador, y usa esta compilacion en tiempo de ejecución en vez del codigo original. Ejemplo: *C#, C++ y Go.*\n",
        "2.   **Interpretados**: Requieren de un tnterprete, un programa que va traduciendo el codigo en tiempo de ejecucion. Ejemplo:  *JavaScript, PHP, Python y Ruby*\n",
        "3.   **Intermedios**: Compila el codigo fuente (nuestro codigo original), convirtiendolo a un lenguaje intermedio que puede ser entendido por una maquina virtual, que luego se encarga de ejecutarlo. Ejemplo: *Java, Kotlin y Scala*\n"
      ]
    },
    {
      "cell_type": "markdown",
      "metadata": {
        "id": "Mir05R5_IFg8"
      },
      "source": [
        "# **Bloque 3**"
      ]
    },
    {
      "cell_type": "markdown",
      "metadata": {
        "id": "ugznY7o2BsPa"
      },
      "source": [
        "#Hello World!"
      ]
    },
    {
      "cell_type": "code",
      "metadata": {
        "id": "X3JuYgXNuH3A",
        "colab": {
          "base_uri": "https://localhost:8080/"
        },
        "outputId": "2228aa63-8a36-4adc-85e0-dfc59116eafe"
      },
      "source": [
        "print(\"Hola chicos de Pescar!!!\")"
      ],
      "execution_count": 2,
      "outputs": [
        {
          "output_type": "stream",
          "name": "stdout",
          "text": [
            "Hola chicos de Pescar!!!\n"
          ]
        }
      ]
    },
    {
      "cell_type": "markdown",
      "metadata": {
        "id": "yl6kco2pCRV7"
      },
      "source": [
        "#Variables\n",
        "\n",
        "Es la representacion, dentro del sistema, de un dato que puede cambiar su valor en cualquier momento."
      ]
    },
    {
      "cell_type": "code",
      "metadata": {
        "id": "563-ULxAC-1N",
        "colab": {
          "base_uri": "https://localhost:8080/"
        },
        "outputId": "2035ae72-0b83-4f19-d143-d1c716a87a9c"
      },
      "source": [
        "edad = 45         # En este caso estamos asignando el valor 25 a la variable edad\n",
        "\n",
        "nombre = \"Max\"    # En este caso estamos asignando el valor Max a la variable nombre\n",
        "\n",
        "# Para imprimir el valor de una variable podemos usar la funcion print\n",
        "\n",
        "print(nombre)\n",
        "\n",
        "print(edad)\n",
        "\n",
        "edad=30\n",
        "print(f\"nueva edad: {edad}\")\n",
        "print(\"nueva edad: \" + str(edad))\n"
      ],
      "execution_count": 3,
      "outputs": [
        {
          "output_type": "stream",
          "name": "stdout",
          "text": [
            "Max\n",
            "45\n",
            "nueva edad: 30\n",
            "nueva edad: 30\n"
          ]
        }
      ]
    },
    {
      "cell_type": "markdown",
      "metadata": {
        "id": "1BZWKaJ2FErW"
      },
      "source": [
        "#Tipos de Datos\n",
        "\n"
      ]
    },
    {
      "cell_type": "code",
      "metadata": {
        "id": "uc2pD-aeH0uv",
        "colab": {
          "base_uri": "https://localhost:8080/"
        },
        "outputId": "b5769396-5d54-4d53-b36a-f6856bf8fe50"
      },
      "source": [
        "# String\n",
        "mensaje = \"esto es un string\"\n",
        "\n",
        "# Integer\n",
        "numero = 33\n",
        "\n",
        "# Float\n",
        "numero = 33.3333\n",
        "\n",
        "# Boolean\n",
        "esta_vacio = True   # True(Verdadero) o False(Falso)\n",
        "\n",
        "print(f\"Mostrar: {mensaje}. tengo {numero} manzanas. Esta vacio: {esta_vacio} \")"
      ],
      "execution_count": 4,
      "outputs": [
        {
          "output_type": "stream",
          "name": "stdout",
          "text": [
            "Mostrar: esto es un string. tengo 33.3333 manzanas. Esta vacio: True \n"
          ]
        }
      ]
    },
    {
      "cell_type": "markdown",
      "metadata": {
        "id": "HzITzq1oLWKT"
      },
      "source": [
        "#Listas"
      ]
    },
    {
      "cell_type": "code",
      "metadata": {
        "id": "UrP97xqPLZSN",
        "colab": {
          "base_uri": "https://localhost:8080/"
        },
        "outputId": "dc43b849-b230-4e9c-8eba-5f7379bdee75"
      },
      "source": [
        "# Lista (List)\n",
        "colores = [\"azul\",\"blanco\",\"amarillo\",\"rojo\",\"fucsia\"]\n",
        "\n",
        "valores = [True, False, False, True, False, None]\n",
        "precios = [5,7,8,9,4,3,6.7] # Integer # Float\n",
        "popurri = [\"texto\",4,6.7,False]\n",
        "\n",
        "# Para acceder al valor de una lista usamos los indices que representan las posiciones de los datos almacenados en la lista\n",
        "# en python los indices comienzan van de [0, 1, 2, ..., n-1]\n",
        "print(colores[4])  # asi si queremos acceder al color amarillo en la posicion 5 de la lista hacemos colores[2]\n",
        "print(colores[3])\n",
        "\n",
        "print(colores[4]+\" HOLA\") # +(colores[4],\"HOLA\")\n",
        "print(colores[4]+\",\"+colores[2]) # +(colores[4],+(\",\", Colores[2]))\n",
        "\n",
        "print(popurri)\n",
        "print(popurri[1])\n",
        "print(popurri[2])\n",
        "print(popurri[3])\n",
        "print(type(precios[5]))\n",
        "print(popurri[len(popurri)-1])\n",
        "print(precios[-1])"
      ],
      "execution_count": 5,
      "outputs": [
        {
          "output_type": "stream",
          "name": "stdout",
          "text": [
            "fucsia\n",
            "rojo\n",
            "fucsia HOLA\n",
            "fucsia,amarillo\n",
            "['texto', 4, 6.7, False]\n",
            "4\n",
            "6.7\n",
            "False\n",
            "<class 'int'>\n",
            "False\n",
            "6.7\n"
          ]
        }
      ]
    },
    {
      "cell_type": "code",
      "metadata": {
        "id": "9CQUDESHwhgX"
      },
      "source": [
        "limite = 100\n",
        "lista = range(limite,0,-2) # [100, 98, 96, 94,..., 4, 2]\n",
        "print(lista)\n",
        "\n",
        "lista2 = list(range(1, 10)) # [1, 3, 5, 7, 9]\n",
        "print(lista2)\n",
        "\n",
        "acum=0\n",
        "# acum = lista[0] + lista[1] + lista[2] + ... + lista[len(lista)-1]\n",
        "for cada_item in lista: # for VAR in LISTA:\n",
        "  print(cada_item)\n",
        "  acum = acum + cada_item\n",
        "\n",
        "print(f\"el total es: {acum}\") # format string (string con formato)\n"
      ],
      "execution_count": null,
      "outputs": []
    },
    {
      "cell_type": "markdown",
      "metadata": {
        "id": "-DPhkKvNMT7-"
      },
      "source": [
        "#Diccionarios\n",
        "Los diccionarios son listas complejas donde podemos representar parejas de valores en la forma\n",
        "`Clave: Valor`, como si fuera un diccionario real donde la clave representa lo que queremos buscar y el valor representa lo que queremos saber de esa clave."
      ]
    },
    {
      "cell_type": "code",
      "metadata": {
        "id": "38x6D6SfMe3Y"
      },
      "source": [
        "# Diccionarios\n",
        "lista = (\"d\",4,True)\n",
        "edad = {\"Juan\": 25, \"Maria\": 30, \"Pedro\": 25, \"Alejandra\": 30} # clave:valor(key:value)\n",
        "\n",
        "# Para acceder a un dato especifico del diccionario debemos buscarlo por su clave\n",
        "# por ejemplo si queremos saber saber la edad de Pedro hacemos edades[\"Pedro\"]\n",
        "mensaje = \"La edad de \"\n",
        "quien = \"Juan\"\n",
        "\n",
        "print(mensaje + quien + \" es \" + str(edad[quien]) + \" años\")"
      ],
      "execution_count": null,
      "outputs": []
    },
    {
      "cell_type": "code",
      "metadata": {
        "id": "Hv28iEt83zIR"
      },
      "source": [
        "articulos = {\"Leche\": [10,5,7],\n",
        "             \"Azucar\": [2],\n",
        "             \"Yerba\": [70,3],\n",
        "             \"Dulce de leche\": [30,5]}\n",
        "\n",
        "mensaje= \"Tengo \"\n",
        "acumulador = 0\n",
        "\n",
        "for k,v in articulos.items():\n",
        "  acumulador = 0\n",
        "  for c in v:\n",
        "    acumulador = acumulador + c\n",
        "\n",
        "  print(mensaje  + str(acumulador) + \" de \" + k)\n"
      ],
      "execution_count": null,
      "outputs": []
    },
    {
      "cell_type": "markdown",
      "metadata": {
        "id": "j0PMKyESH6wI"
      },
      "source": [
        "# **Bloque 4**"
      ]
    },
    {
      "cell_type": "markdown",
      "metadata": {
        "id": "3O06T9xRJjqY"
      },
      "source": [
        "#Ejercicios\n"
      ]
    },
    {
      "cell_type": "markdown",
      "metadata": {
        "id": "sbteyrmSPlth"
      },
      "source": [
        "1. Define 5 variables para representar los datos de un estudiante en en proceso de inscripcion de una Universidad y asigna algunos valores de ejemplo a tus variables"
      ]
    },
    {
      "cell_type": "code",
      "metadata": {
        "id": "MAtmeToyPmYn",
        "colab": {
          "base_uri": "https://localhost:8080/"
        },
        "outputId": "0be42f3b-f0c7-4b07-c99f-1636b249514a"
      },
      "source": [
        "edad = 23;\n",
        "nombre = \"Aylin\"\n",
        "apellido = \"Fernandez\"\n",
        "secundario = True\n",
        "nacimiento = \"5/7/2001\"\n",
        "print(f\"edad actual: {edad}\")\n",
        "print(f\"fecha de Nacimiento: {nacimiento}\")"
      ],
      "execution_count": 8,
      "outputs": [
        {
          "output_type": "stream",
          "name": "stdout",
          "text": [
            "edad actual: 23\n",
            "fecha de Nacimiento: 5/7/2001\n"
          ]
        }
      ]
    },
    {
      "cell_type": "markdown",
      "metadata": {
        "id": "LFgIYC6CRZ4x"
      },
      "source": [
        "2. Crea una lista con 10 de tus peliculas o series favoritas ordenadas desde la que mas te gusta hasta la que menos te gusta y luego imprime el top 3 de tus peliculas o series favoritas"
      ]
    },
    {
      "cell_type": "code",
      "metadata": {
        "id": "EavGPiB_kmYx",
        "colab": {
          "base_uri": "https://localhost:8080/"
        },
        "outputId": "f6b138b6-4037-4b58-ff4f-c915a14f96eb"
      },
      "source": [
        "peliculas = [\"La princesa y el sapo\", \"Crepusculo\", \"Legalmente Rubia\", \"Stich\", \"Freaky friday\", \"El diablo viste a la moda\", \"La sirenita\", \"Enredados\", \"Luna Nueva\", \"Amanecer 1\"]\n",
        "print(peliculas[0:3])"
      ],
      "execution_count": 16,
      "outputs": [
        {
          "output_type": "stream",
          "name": "stdout",
          "text": [
            "['La princesa y el sapo', 'Crepusculo', 'Legalmente Rubia']\n"
          ]
        }
      ]
    },
    {
      "cell_type": "markdown",
      "metadata": {
        "id": "4w8MJnf3S22b"
      },
      "source": [
        "3. Define 3 variables que le permitan a los usuarios de un sistema de revision de obras cinematrogaficas tener mas informacion acerca de una pelicula para saber si deberian verla o no. Y asgnale algunos valores de ejemplo a tus variables."
      ]
    },
    {
      "cell_type": "code",
      "metadata": {
        "id": "FSOSsmFvS4Ir"
      },
      "source": [
        "ficcion = True\n",
        "menores = False\n",
        "animado = True\n",
        "\n",
        "if (ficcion == True):\n",
        "  print(\"Podes ver esta pelicula\")\n",
        "else:\n",
        "  print(\"No podes ver esta pelicula\")"
      ],
      "execution_count": null,
      "outputs": []
    },
    {
      "cell_type": "markdown",
      "metadata": {
        "id": "GunwRBvJKEh1"
      },
      "source": [
        "4. Define una variable que contenga la lista de 6 articulos comprados en un mercado, donde se pueda ver reflejado el nombre de cada articulo y el precio que se pago por ese articulo. Luego suma el valor de cada uno de los productos pagados y deja el total de la suma en una variable llamada `Total` e imprimela"
      ]
    },
    {
      "cell_type": "code",
      "metadata": {
        "id": "ycdxqX3FPMl1",
        "colab": {
          "base_uri": "https://localhost:8080/"
        },
        "outputId": "20644159-b320-431e-8448-e911ab23ee97"
      },
      "source": [
        "articulos = {\"Auricular\": 29.000,\n",
        "             \"Cargador\": 17.000,\n",
        "             \"Microfono\": 60.000,\n",
        "             \"Aro de luz\": 22.000,\n",
        "             \"Celulares\": 600.000,\n",
        "             \"Teclado\": 30.000}\n",
        "Total = 0\n",
        "for _,v in articulos.items(): #con \".items()\" asigna unicamente el valor no la clave. \"clave: valor\"\n",
        "  Total = Total + v\n",
        "print(Total)"
      ],
      "execution_count": 18,
      "outputs": [
        {
          "output_type": "stream",
          "name": "stdout",
          "text": [
            "758.0\n"
          ]
        }
      ]
    },
    {
      "cell_type": "markdown",
      "metadata": {
        "id": "bKKOcZgeIAfq"
      },
      "source": [
        "# **Bloque 5**"
      ]
    },
    {
      "cell_type": "markdown",
      "metadata": {
        "id": "xq_-Dk10KDvT"
      },
      "source": [
        "Puesta en comun"
      ]
    }
  ]
}