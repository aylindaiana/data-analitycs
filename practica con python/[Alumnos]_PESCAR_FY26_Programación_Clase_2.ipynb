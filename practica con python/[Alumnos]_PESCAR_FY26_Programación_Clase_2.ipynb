{
  "nbformat": 4,
  "nbformat_minor": 0,
  "metadata": {
    "colab": {
      "provenance": [],
      "include_colab_link": true
    },
    "kernelspec": {
      "name": "python3",
      "display_name": "Python 3"
    }
  },
  "cells": [
    {
      "cell_type": "markdown",
      "metadata": {
        "id": "view-in-github",
        "colab_type": "text"
      },
      "source": [
        "<a href=\"https://colab.research.google.com/github/aylindaiana/python-Salesforce/blob/main/%5BAlumnos%5D_PESCAR_FY26_Programaci%C3%B3n_Clase_2.ipynb\" target=\"_parent\"><img src=\"https://colab.research.google.com/assets/colab-badge.svg\" alt=\"Open In Colab\"/></a>"
      ]
    },
    {
      "cell_type": "markdown",
      "metadata": {
        "id": "JWC9ysTY67S6"
      },
      "source": [
        "<h1> Pescar - Clase 2 - Introducción a la programación en Python <h1>\n"
      ]
    },
    {
      "cell_type": "markdown",
      "metadata": {
        "id": "gfDI5E22KQ_D"
      },
      "source": [
        "# Sentencias\n",
        "\n",
        "\n",
        "\n",
        "\n",
        "\n"
      ]
    },
    {
      "cell_type": "code",
      "metadata": {
        "id": "as1igcoSZtCZ"
      },
      "source": [
        "nombre = \"José\"\n",
        "\n",
        "edad = 10            # Sentencia de asignación\n",
        "\n",
        "edad = edad + 2      # Asignación de una expresión\n",
        "\n",
        "hobbie = \"Nadar\"\n",
        "esGranNadador = True\n",
        "print(nombre + \" tiene \" + str(edad) + \" años y le gusta \" + hobbie + \"Nada bien? \" + str(esGranNadador))         # Función\n"
      ],
      "execution_count": null,
      "outputs": []
    },
    {
      "cell_type": "markdown",
      "metadata": {
        "id": "H9v9zS8wZx-b"
      },
      "source": [
        "## Elementos de las sentencias\n",
        "\n",
        "* Variable\n",
        "* Operador\n",
        "* Constante\n",
        "* Función"
      ]
    },
    {
      "cell_type": "markdown",
      "metadata": {
        "id": "zaojtfqWKif-"
      },
      "source": [
        "# Operadores\n",
        "## Operadores numéricos\n",
        "\n",
        "| Operador | Operación                 |\n",
        "|----------|-----------------------------|\n",
        "| + | Adición |\n",
        "| - | Substracción |\n",
        "| * | Multiplicación |\n",
        "| / | División |\n",
        "| **  | Poder |\n",
        "| % | Resto |\n",
        "\n"
      ]
    },
    {
      "cell_type": "code",
      "metadata": {
        "id": "RX3D3-wCA4qA"
      },
      "source": [
        "#El resto de dividir 10 por 3, cuál es?\n",
        "\n",
        "# Borrar lo siguiente antes de usar este doc para nueva clase\n",
        "division = 10/3\n",
        "restoDePrueba = 10 % 3\n",
        "\n",
        "print (division)\n",
        "print (restoDePrueba)\n",
        "\n",
        "print(10/3)\n",
        "print(10//3)\n"
      ],
      "execution_count": null,
      "outputs": []
    },
    {
      "cell_type": "code",
      "metadata": {
        "id": "9esCTfqEe190",
        "colab": {
          "base_uri": "https://localhost:8080/"
        },
        "outputId": "6c1d8e39-c5e6-49db-8576-126be10c2be6"
      },
      "source": [
        "medallasDeNatacion = 2\n",
        "medallasDeNatacion = medallasDeNatacion + 1\n",
        "print(\"Medallas que tiene nuestro amiguito nadador:\", medallasDeNatacion)\n",
        "\n",
        "puntosAcumulados = medallasDeNatacion * 23\n",
        "print(\"Puntos que acumuló por ganar medallas:\", puntosAcumulados)\n",
        "\n",
        "puntosPorMes = puntosAcumulados / 12\n",
        "print(\"Puntos que acumuló por mes:\", puntosPorMes)\n"
      ],
      "execution_count": null,
      "outputs": [
        {
          "output_type": "stream",
          "name": "stdout",
          "text": [
            "Medallas que tiene nuestro amiguito nadador: 3\n",
            "Puntos que acumuló por ganar medallas: 69\n",
            "Puntos que acumuló por mes: 5.75\n"
          ]
        }
      ]
    },
    {
      "cell_type": "markdown",
      "metadata": {
        "id": "9aqSSeH5Hs2v"
      },
      "source": [
        "## Ejercicio\n",
        "\n",
        "a. Escribí un programa que muestre el resultado de multiplicar 142857 por 7. ¿ Cuánto da?"
      ]
    },
    {
      "cell_type": "code",
      "metadata": {
        "id": "NEL_gY19FGht",
        "colab": {
          "base_uri": "https://localhost:8080/"
        },
        "outputId": "86e7ef60-27f3-4e07-b3f1-6828cb0389f2"
      },
      "source": [
        "#este bloque calcula el producto de dos numeros enteros\n",
        "\n",
        "num1 = 142857\n",
        "num2 = 7\n",
        "resultado = num1 * num2\n",
        "print(f\"El producto de {num1} x {num2} es igual a \" + str(resultado))\n",
        "print(142857*7)\n",
        "\n"
      ],
      "execution_count": null,
      "outputs": [
        {
          "output_type": "stream",
          "name": "stdout",
          "text": [
            "El producto de 142857 x 7 es igual a 999999\n",
            "999999\n"
          ]
        }
      ]
    },
    {
      "cell_type": "markdown",
      "metadata": {
        "id": "pWdgKoO5IoeA"
      },
      "source": [
        "* b. ¿ Y cuánto da si lo multiplicás por 3 ? Qué curiosidad tiene el resultado?\n",
        "*   c. Y si lo elevás a la 1?\n",
        "*   d. Y si lo dividís por 0.25?\n",
        "*   e. Y si lo multiplicás por 6 y luego le restás el número curioso?!"
      ]
    },
    {
      "cell_type": "code",
      "metadata": {
        "id": "u8P4yeXdJBSV",
        "colab": {
          "base_uri": "https://localhost:8080/"
        },
        "outputId": "2d4611b6-e530-4fb3-90ff-da797a6b0bfb"
      },
      "source": [
        "num1= 142857\n",
        "num2=7\n",
        "resX3= 999999 * 3\n",
        "resultado = num1 * num2\n",
        "dividido= 999999/0.25\n",
        "print(f\"El producto de {num1} x {num2} es igual a \" + str(resultado))\n",
        "res = resultado ** 1\n",
        "print(f\"el triple de {resultado} es {resX3}\")\n",
        "restoDePrueba=999999%0.3\n",
        "print(\"El resultado de 999999 / 3 es: \"+ str(dividido))\n",
        "print(f\"El resultado de (999999 x 6) - {resX3} es: \", (999999*6) - resX3)\n",
        "print(f\"el resto es: {restoDePrueba}\")"
      ],
      "execution_count": null,
      "outputs": [
        {
          "output_type": "stream",
          "name": "stdout",
          "text": [
            "El producto de 142857 x 7 es igual a 999999\n",
            "el triple de 999999 es 2999997\n",
            "El resultado de 999999 / 3 es: 3999996.0\n",
            "El resultado de (999999 x 6) - 2999997 es:  2999997\n",
            "el resto es: 3.700739714673773e-11\n"
          ]
        }
      ]
    },
    {
      "cell_type": "markdown",
      "metadata": {
        "id": "iCxo7nXhPaPX"
      },
      "source": [
        "f.  Uno más: ¿ cuánto da si multiplicamos 111111111 por 111111111 ?"
      ]
    },
    {
      "cell_type": "code",
      "metadata": {
        "id": "UKxXZdDKSn4F",
        "colab": {
          "base_uri": "https://localhost:8080/"
        },
        "outputId": "c0401857-a220-4935-9b9b-be7a47d08f69"
      },
      "source": [
        "num1 = 111111111\n",
        "num2 = 111111111\n",
        "resultado = num1 * num2\n",
        "print(resultado)"
      ],
      "execution_count": null,
      "outputs": [
        {
          "output_type": "stream",
          "name": "stdout",
          "text": [
            "12345678987654321\n"
          ]
        }
      ]
    },
    {
      "cell_type": "markdown",
      "metadata": {
        "id": "lsZw543ze4zG"
      },
      "source": [
        "## ¿Cuál es el orden de evaluación en una expresión?\n",
        "\n",
        "\n"
      ]
    },
    {
      "cell_type": "markdown",
      "metadata": {
        "id": "TL28ouIfRiFg"
      },
      "source": [
        "a. ¿ Cuánto da 60 + 60 x 0 + 1 ?\n",
        "*    1 ?\n",
        "*   61 ?\n",
        "*  122 ?\n"
      ]
    },
    {
      "cell_type": "code",
      "metadata": {
        "id": "eW0IFc59SkOz",
        "colab": {
          "base_uri": "https://localhost:8080/"
        },
        "outputId": "d7026fc1-e9ba-458c-ef6e-eae3078f4171"
      },
      "source": [
        "print((60 + 60) * 0 + 1)"
      ],
      "execution_count": null,
      "outputs": [
        {
          "output_type": "stream",
          "name": "stdout",
          "text": [
            "120\n"
          ]
        }
      ]
    },
    {
      "cell_type": "markdown",
      "source": [],
      "metadata": {
        "id": "v4uqTAyOZa_x"
      }
    },
    {
      "cell_type": "markdown",
      "metadata": {
        "id": "tCHI0ca-QPWS"
      },
      "source": [
        "b. Primero calculá mentalmente cuál es el valor de x. ¿ Coincide con lo que calcula el programa?"
      ]
    },
    {
      "cell_type": "code",
      "metadata": {
        "id": "uTTDq-qvgJqb"
      },
      "source": [],
      "execution_count": null,
      "outputs": []
    },
    {
      "cell_type": "markdown",
      "metadata": {
        "id": "SWJ7bpBoSbT1"
      },
      "source": [
        "c. ¿ Y qué pasa con y?"
      ]
    },
    {
      "cell_type": "code",
      "metadata": {
        "id": "iBBHNBQ2Qj7r"
      },
      "source": [],
      "execution_count": null,
      "outputs": []
    },
    {
      "cell_type": "markdown",
      "metadata": {
        "id": "3LvnKPDFgZ6b"
      },
      "source": [
        "### Orden de evaluación de operadores\n",
        "\n",
        "|Orden| Operador|\n",
        "|----------|----------|\n",
        "| 1| Parentesis |\n",
        "| 2| Exponente |\n",
        "| 3| Multiplicación o División |\n",
        "| 4| Suma o Resta |\n",
        "| 5| Izquierda a derecha |"
      ]
    },
    {
      "cell_type": "markdown",
      "metadata": {
        "id": "s5a6IlFuTe8a"
      },
      "source": [
        "## Algunos operadores se pueden aplicar a listas; y el resultado es distinto...\n",
        "\n",
        "a. Si tenés una lista con estas palabras: *Todas las hojas son del viento*<br>\n",
        "Y otra lista con las palabras: *Ya que él las mueve hasta en la muerte*.\n",
        "\n",
        "¿ Qué pasa si las sumas?\n",
        "\n"
      ]
    },
    {
      "cell_type": "code",
      "metadata": {
        "id": "91dlQj21VmrY",
        "colab": {
          "base_uri": "https://localhost:8080/"
        },
        "outputId": "1fff30ca-f307-49ea-80ca-ffa33a72c732"
      },
      "source": [
        "lista1 = [\"Todas\",\"las\"]\n",
        "lista2 = [\"Ya\",\"que\"]\n",
        "resultado = lista1 + lista2\n",
        "print(resultado)"
      ],
      "execution_count": null,
      "outputs": [
        {
          "output_type": "stream",
          "name": "stdout",
          "text": [
            "['Todas', 'las', 'Ya', 'que']\n"
          ]
        }
      ]
    },
    {
      "cell_type": "markdown",
      "metadata": {
        "id": "GvirBWPEWLb4"
      },
      "source": [
        "b. ¿Y si tenés una lista con \"Ar\", \"gen\", \"tina!\" y la multiplicás por 3?"
      ]
    },
    {
      "cell_type": "code",
      "metadata": {
        "id": "NQQFubCf3NIs"
      },
      "source": [
        "lista = [\"Ar\", \"gen\", \"tina!\"]\n",
        "num = 3\n",
        "l2=lista + lista + lista\n",
        "print(l2)\n",
        "#print (lista * num)\n"
      ],
      "execution_count": null,
      "outputs": []
    },
    {
      "cell_type": "markdown",
      "metadata": {
        "id": "sqOSpgmNVe1A"
      },
      "source": [
        "# Tipo de datos String\n",
        "\n",
        "> Indented block\n",
        "\n",
        "\n",
        "\n"
      ]
    },
    {
      "cell_type": "markdown",
      "metadata": {
        "id": "LsX7jVtSXdNe"
      },
      "source": [
        "\n",
        "\n",
        "*   Un `string` es una secuencia de caracteres para representar texto\n",
        "*   Para representar un literal de `string` se puede usar comillas simples <font color=\"green\">'Hola'</font> o comillas dobles <font color=\"green\">\"Hola\"</font>\n",
        "*   En Python **str** es el nombre del tipo o clase que representa los strings\n",
        "\n",
        "\n",
        "\n",
        "\n",
        "\n",
        "\n"
      ]
    },
    {
      "cell_type": "code",
      "metadata": {
        "id": "Yi2kYoguYodq"
      },
      "source": [
        "print(\"¿Cómo \")\n",
        "print(\"'están?.230892349043$%#@45\")\n",
        "print(\"a1b2c3\")\n",
        "print('a1b2c3')"
      ],
      "execution_count": null,
      "outputs": []
    },
    {
      "cell_type": "markdown",
      "metadata": {
        "id": "1ETsPkvCauVW"
      },
      "source": [
        "*   Para los strings, el operador `+` representa la operación de **concatenación**\n",
        "\n"
      ]
    },
    {
      "cell_type": "code",
      "metadata": {
        "id": "qN7ZoIhFckwv"
      },
      "source": [
        "string1 = \"¿Cómo     \"\n",
        "string2 = 'están?'\n",
        "saludo = string1 + string2\n",
        "print(saludo)                    # Cual es la respuesta: \"Cómo están?\" o \"Cómoestán?\"\n",
        "\n",
        "\"Hola\" + \" como \" + \" estan\" + \" \" + \"?\"\n"
      ],
      "execution_count": null,
      "outputs": []
    },
    {
      "cell_type": "markdown",
      "metadata": {
        "id": "efUaarMXdNpF"
      },
      "source": [
        "\n",
        "\n",
        "*   Si un `string` contiene un número sigue siendo un `string`\n",
        "\n"
      ]
    },
    {
      "cell_type": "code",
      "metadata": {
        "id": "uNhw1UExddew"
      },
      "source": [
        "\"10\" + 1     # Ouch!"
      ],
      "execution_count": null,
      "outputs": []
    },
    {
      "cell_type": "markdown",
      "metadata": {
        "id": "INSCQrGVqym6"
      },
      "source": [
        "\n",
        "\n",
        "*   Podemos convertir un número presente en un `string` a números usando la función <font color=\"magenta\">`int(string)`</font>\n",
        "*   `int` es la abreviación de `integer` que en español significa (número) entero.\n",
        "\n",
        "\n"
      ]
    },
    {
      "cell_type": "code",
      "metadata": {
        "id": "aZvA05Xo7eT8"
      },
      "source": [
        "int(\"10\")  # \"10\" o 10"
      ],
      "execution_count": null,
      "outputs": []
    },
    {
      "cell_type": "code",
      "metadata": {
        "id": "FUqQzJi9rYlN"
      },
      "source": [
        "once = int(\"10\") + 1\n",
        "print(once)"
      ],
      "execution_count": null,
      "outputs": []
    },
    {
      "cell_type": "markdown",
      "metadata": {
        "id": "2mCRlmxWZE9j"
      },
      "source": [
        "\n",
        "\n",
        "*   Podemos convertir un número a un `string` usando función <font color=\"magenta\">`str(número)`</font>\n",
        "\n"
      ]
    },
    {
      "cell_type": "code",
      "metadata": {
        "id": "Lm0yqw9BZUtZ"
      },
      "source": [
        "diez = 10\n",
        "\n",
        "print( diez + diez )"
      ],
      "execution_count": null,
      "outputs": []
    },
    {
      "cell_type": "code",
      "metadata": {
        "id": "-rrysQUc4GdR"
      },
      "source": [
        "diez = 10\n",
        "\n",
        "diezEnString = str(diez)\n",
        "\n",
        "print(diezEnString)\n",
        "\n",
        "print( diezEnString + diezEnString )"
      ],
      "execution_count": null,
      "outputs": []
    },
    {
      "cell_type": "markdown",
      "metadata": {
        "id": "QCJJ7UhPuqSR"
      },
      "source": [
        "### Ejercicio\n",
        "Asigna en una variable tu nombre y en otra tu apellido. Luego imprimí el texto `\"Mi nombre completo es <Nombre> <Apellido>\"`."
      ]
    },
    {
      "cell_type": "code",
      "metadata": {
        "id": "Fw-qr6lmut_Z"
      },
      "source": [],
      "execution_count": null,
      "outputs": []
    },
    {
      "cell_type": "markdown",
      "metadata": {
        "id": "RGJUJB0s9Z9Z"
      },
      "source": [
        "## Lectura de strings\n",
        "\n",
        "\n",
        "*   Para leer un `string` podemos usar la funcion <font color=\"magenta\">`input()`</font>\n",
        "*   Esta función detiene la ejecución del programa y se queda esperando que se ingrese algún texto mediante el teclado. Con la tecla `enter` o `return` le indicamos al programa que dimos por finalizado el ingreso de texto.\n",
        "*   <font color=\"magenta\">`input(prompt)`</font> tiene un parámetro opcional que sirve para mostrar un mensaje con que es muy util para informar que datos espera el programa\n",
        "*   La función devuelve el **`string`** que ingresamos"
      ]
    },
    {
      "cell_type": "code",
      "metadata": {
        "id": "Vem8R7DAkZN4"
      },
      "source": [
        "nombre = input(\"Ingresá tu nombre: \")   # Imprime en la pantalla el mensaje \"Ingresá tu nombre:”,\n",
        "                                        # lee texto ingresado desde el teclado (lectura)\n",
        "                                        # y luego lo guardar en la variable nombre.\n",
        "\n",
        "print(\"Buen día \" + nombre)             # Escribe la concatenación de los strings \"Buen día \" y nombre\n",
        "                                        # y luego lo imprime en pantalla (escritura)"
      ],
      "execution_count": null,
      "outputs": []
    },
    {
      "cell_type": "markdown",
      "metadata": {
        "id": "qIahhz1f2xVE"
      },
      "source": [
        "### Ejercicio\n",
        "Ahora vamos a hacer un programa que nos calcule la superficie de un rectángulo.\n",
        "\n",
        "$superficie = base * altura$\n",
        "\n",
        "El programa ya tiene la estructura lista.\n",
        "Lo que tienen que hacer es reemplazar los lugares donde aparece **???** por expresiones, operadores o funciones que hagan lo que se indica en los comentarios de cada línea."
      ]
    },
    {
      "cell_type": "code",
      "metadata": {
        "id": "eDgByr4Vly5z"
      },
      "source": [],
      "execution_count": null,
      "outputs": []
    },
    {
      "cell_type": "markdown",
      "metadata": {
        "id": "AS2yhgqdr1RL"
      },
      "source": [
        "## Un string es una secuencia (lista) de caracteres\n",
        "\n",
        "\n",
        "*   Anteriormente dijimos que es string es una **secuencia** de caracteres.\n",
        "\n",
        "| S | p | i | n | e | t | t | a |\n",
        "|---|---|---|---|---|---|---|---|\n",
        "| 0 | 1 | 2 | 3 | 4 | 5 | 6 | 7 |\n",
        "\n",
        "\n",
        "*   Para acceder a los elementos de la secuencia se puede utilizar el operador `string[indice]`.\n",
        "\n",
        "*   `\"Spinetta\"[i]` equivale a \"Dame el elemento del string cuyo índice es igual a `i`\"\n"
      ]
    },
    {
      "cell_type": "code",
      "metadata": {
        "id": "_QH5bXYC7RmZ"
      },
      "source": [
        "apellido = \"Spinetta\"\n",
        "\n",
        "apellido[0]               # pido el primer caracter. indice = 0"
      ],
      "execution_count": null,
      "outputs": []
    },
    {
      "cell_type": "code",
      "metadata": {
        "id": "b3eRPrZ0-mTx"
      },
      "source": [
        "apellido[1]               # pido el segundo caracter. indice = 1"
      ],
      "execution_count": null,
      "outputs": []
    },
    {
      "cell_type": "code",
      "metadata": {
        "id": "t51JJyKU-pCY"
      },
      "source": [
        "apellido[7]               # pido el octavo caracter. indice = 7"
      ],
      "execution_count": null,
      "outputs": []
    },
    {
      "cell_type": "code",
      "metadata": {
        "id": "Yrl8Z1pQD9F2"
      },
      "source": [
        "ultimaLetra = apellido[4 + 3]     # dentro de [ ] puede haber cualquier expresión que exprese un número entero\n",
        "\n",
        "print(ultimaLetra)\n",
        "\n",
        "primeraLetra = apellido[5 - 5]    # otra expresión\n",
        "\n",
        "print(primeraLetra)"
      ],
      "execution_count": null,
      "outputs": []
    },
    {
      "cell_type": "code",
      "metadata": {
        "id": "MOxF02sCDu_X"
      },
      "source": [
        "## ¿Qué pasa si pongo un indice mayor a 7\n",
        "\n",
        "apellido[10]"
      ],
      "execution_count": null,
      "outputs": []
    },
    {
      "cell_type": "markdown",
      "metadata": {
        "id": "JB8U0YYc9eTd"
      },
      "source": [
        "## Los strings tiene longitud\n",
        "\n",
        "*   Los strings tienen longitud.\n",
        "\n",
        "*   La longitud de un string esta definida por la cantidad de elementos que contiene\n",
        "\n",
        "*   Por ejemplo:\n",
        "** el string `\"Luis\"` tiene longitud 4\n",
        "** el string `\"Alberto\"` tiene longitud 7\n",
        "** el string `\"Spinetta\"` tiene longitud 8\n",
        "\n",
        "*   La función <font color=\"magenta\">`len(string)`</font> calcula la longitud de un string\n"
      ]
    },
    {
      "cell_type": "code",
      "metadata": {
        "id": "CsaF9Q_bFSEl"
      },
      "source": [
        "nombre = \"Luis\"\n",
        "\n",
        "longitud = len(nombre)    # Calculo con la función len la longitud del string guardado en la variable 'nombre'\n",
        "                          # y lo guardo con la variable longitud\n",
        "\n",
        "print(longitud)           # y luego lo imprimo"
      ],
      "execution_count": null,
      "outputs": []
    },
    {
      "cell_type": "markdown",
      "metadata": {
        "id": "VL1R2lvhyzVI"
      },
      "source": [
        "### Ejercicio\n",
        "Hacer un programa en donde ingreses nombre y apellido.\n",
        "Luego te muestre pantalla la suma de las longitudes del nombre y del apellido\n",
        "\n",
        "Ejemplo:\n",
        "\n",
        "```\n",
        "Ingrese su nombre: Luis\n",
        "Ingrese su apellido: Spinetta\n",
        "Longitud: 12\n",
        "```\n",
        "\n"
      ]
    },
    {
      "cell_type": "code",
      "metadata": {
        "id": "9gg7GfTAzWk6"
      },
      "source": [],
      "execution_count": null,
      "outputs": []
    },
    {
      "cell_type": "markdown",
      "metadata": {
        "id": "w8db4OUW6YKV"
      },
      "source": [
        "# Funciones de strings"
      ]
    },
    {
      "cell_type": "markdown",
      "metadata": {
        "id": "C-qzJ5fN-nCg"
      },
      "source": [
        "### ¿Cómo hago para obtener una porción (o substring) de un string?\n",
        "\n",
        "*   `\"H\"`, `\"Ho\"`, `\"la\"`, `\"ola\"` son algunas porciones o substrings del string `\"Hola\"`\n",
        "*   Por medio de operador `:` podemos acceder a porciones de un string\n",
        "*   `\"algun texto\"[i:j]` equivale a \"dame el substring que empieza en el índice `i` y termina justo uno antes del índice `j` (exclusive)\""
      ]
    },
    {
      "cell_type": "markdown",
      "metadata": {
        "id": "D3IhNAn8z94x"
      },
      "source": [
        "\n",
        "\n",
        "```\n",
        " | H | O | L | A |    # String\n",
        " | 0 | 1 | 2 | 3 |    # Indices\n",
        "```"
      ]
    },
    {
      "cell_type": "code",
      "metadata": {
        "id": "omFo0xIUKc-Y"
      },
      "source": [
        "\"Hola\"[0:1]"
      ],
      "execution_count": null,
      "outputs": []
    },
    {
      "cell_type": "code",
      "metadata": {
        "id": "GC8slQgYLeaM"
      },
      "source": [
        "\"Hola\"[0:2]"
      ],
      "execution_count": null,
      "outputs": []
    },
    {
      "cell_type": "code",
      "metadata": {
        "id": "9AvKCqY5Lial"
      },
      "source": [
        "\"Hola\"[2:4]"
      ],
      "execution_count": null,
      "outputs": []
    },
    {
      "cell_type": "code",
      "metadata": {
        "id": "bHX4n3h9LpOw"
      },
      "source": [
        "\"Hola\"[1:4]"
      ],
      "execution_count": null,
      "outputs": []
    },
    {
      "cell_type": "code",
      "metadata": {
        "id": "4algmYFvLuFR"
      },
      "source": [
        "\"Hola\"[0:4]"
      ],
      "execution_count": null,
      "outputs": []
    },
    {
      "cell_type": "code",
      "metadata": {
        "id": "iHOMBEZvLzA8"
      },
      "source": [
        "\"Hola\"[0:0]"
      ],
      "execution_count": null,
      "outputs": []
    },
    {
      "cell_type": "code",
      "metadata": {
        "id": "99FLtTn-Mroi"
      },
      "source": [
        "\"Hola\"[0:100000]"
      ],
      "execution_count": null,
      "outputs": []
    },
    {
      "cell_type": "code",
      "metadata": {
        "id": "kO10_JnvMP5a"
      },
      "source": [
        "\"Todas las hojas son del viento.\"[6:]    # desde el índice 6 hasta el final"
      ],
      "execution_count": null,
      "outputs": []
    },
    {
      "cell_type": "code",
      "metadata": {
        "id": "xhjgrdeqMdp8"
      },
      "source": [
        "\"Todas las hojas son del viento.\"[:5]    # desde el principio hasta el índice 4"
      ],
      "execution_count": null,
      "outputs": []
    },
    {
      "cell_type": "markdown",
      "metadata": {
        "id": "nWWuqBAZsK-q"
      },
      "source": [
        "### Ejercicio\n",
        "Ingresar una fecha en formato `dd/mm/aaaa`.\n",
        "Luego extraer los substrings `dd` `mm` y `aaaa` e imprimirlos en pantalla\n",
        "\n",
        "Ejemplo\n",
        "```\n",
        "Ingrese una fecha: 16/12/2021\n",
        "Día: 16\n",
        "Mes: 12\n",
        "Año: 2021\n",
        "```"
      ]
    },
    {
      "cell_type": "code",
      "source": [
        "fecha = input(\"Ingrese fecha: \")\n",
        "dia = fecha[0:2]\n",
        "mes = fecha[3:5]\n",
        "anio = fecha[6:10]\n",
        "print(fecha)\n",
        "print(dia,\"/\",mes,\"/\",anio)\n",
        "print(f\"{dia}/{mes}/{anio}\") #Mejor práctica\n"
      ],
      "metadata": {
        "id": "OBuZzCHVrKOY",
        "outputId": "25c62c28-f11b-4225-add4-d39a3214ecb7",
        "colab": {
          "base_uri": "https://localhost:8080/"
        }
      },
      "execution_count": 5,
      "outputs": [
        {
          "output_type": "stream",
          "name": "stdout",
          "text": [
            "Ingrese fecha: 21/03/2001\n",
            "21/03/2001\n",
            "21 / 03 / 2001\n",
            "21/03/2001\n"
          ]
        }
      ]
    },
    {
      "cell_type": "code",
      "metadata": {
        "id": "1yLwx_vdsOzY",
        "outputId": "3b3888cb-997f-4ced-c1ac-11b9087a0f74",
        "colab": {
          "base_uri": "https://localhost:8080/"
        }
      },
      "source": [
        "cuil= \"23-12345678-1\"\n",
        "digitos_iniciales = cuil[0:2]\n",
        "print(digitos_iniciales)\n",
        "\n",
        "dni = cuil[3:11]\n",
        "print(dni)\n",
        "\n",
        "digito_verificador = cuil[12:]\n",
        "print(digito_verificador)"
      ],
      "execution_count": 2,
      "outputs": [
        {
          "output_type": "stream",
          "name": "stdout",
          "text": [
            "23\n",
            "12345678\n",
            "1\n"
          ]
        }
      ]
    },
    {
      "cell_type": "markdown",
      "metadata": {
        "id": "EjH3Iaeo-6Kp"
      },
      "source": [
        "### ¿Cómo busco algo dentro de un string?\n",
        "\n",
        "\n",
        "*   Para buscar dentro de un string un caracter o un substring se puede usar el método de `string` <font color=\"magenta\">`find(caracterOTextoABuscar)`</font>\n",
        "*   Este método devuelve el indice donde comienza la primera aparición del texto o caracter a buscar\n",
        "*   Si no encuentra nada devuelve `-1`\n"
      ]
    },
    {
      "cell_type": "code",
      "metadata": {
        "id": "mnM2BaH6qwsd"
      },
      "source": [
        "##   T o d a s   l a s   h  o  j  a  s\n",
        "##   0 1 2 3 4 5 6 7 8 9 10 11 12 13 14\n",
        "\n",
        "texto = \"Todas las hojas\"\n",
        "\n",
        "indice = texto.find(\"las\")\n",
        "\n",
        "print(\"1era busqueda: \" + str(indice))\n",
        "\n",
        "indice = texto.find(\"a\")\n",
        "\n",
        "print(\"2da busqueda: \" + str(indice))\n",
        "\n",
        "indice = texto.find(\"viento\")\n",
        "\n",
        "print(\"3da busqueda: \" + str(indice))\n"
      ],
      "execution_count": null,
      "outputs": []
    },
    {
      "cell_type": "code",
      "metadata": {
        "id": "mJBIvn8GsM5y"
      },
      "source": [
        "# ¿Es un hashtag? versión 1\n",
        "\n",
        "texto = input(\"Ingresa algún texto: \")\n",
        "\n",
        "indice = texto.find(\"#\")\n",
        "\n",
        "esUnHashtag = indice > -1\n",
        "\n",
        "print (\"Es un hastag? \" + str(esUnHashtag))"
      ],
      "execution_count": null,
      "outputs": []
    },
    {
      "cell_type": "markdown",
      "metadata": {
        "id": "BSzpeq_S_Axb"
      },
      "source": [
        "### Manejo de mayúsculas y minúsculas\n",
        "\n",
        "\n",
        "Para cambiar a máyusculas o minúsculas el tipo `string` tiene dos métodos:\n",
        "*  <font color=\"magenta\">`lower()`</font> devuelde el string con los carecteres todos en minúscula.\n",
        "*  <font color=\"magenta\">`upper()`</font> devuelde el string con los carecteres todos en mayúscula."
      ]
    },
    {
      "cell_type": "code",
      "metadata": {
        "id": "3QeULno712Xv"
      },
      "source": [
        "enojado = \"ESTO ES UN DESORDEN!\"\n",
        "\n",
        "print(enojado.lower())\n",
        "\n",
        "tranquilo = \"esto podría estar mucho mejor\"\n",
        "\n",
        "print(tranquilo.upper())\n",
        "\n",
        "print(\"MAYUSCULA minúscula\".lower())\n",
        "\n",
        "print(\"MAYUSCULA minúscula\".upper())"
      ],
      "execution_count": null,
      "outputs": []
    },
    {
      "cell_type": "markdown",
      "metadata": {
        "id": "cpzChoJH08B5"
      },
      "source": [
        "### Prefijos y sufijos\n",
        "\n",
        "*   El método <font color=\"magenta\">`startswith(prefijo)`</font> retorna `True` si el string `prefijo`, en caso contrario Retorna `False`.\n",
        "*   El método <font color=\"magenta\">`endswith(sufijo)`</font> retorna `True` si el string termina con el valor indicado por`sufijo`, en caso contrario retorna `False`."
      ]
    },
    {
      "cell_type": "code",
      "metadata": {
        "id": "F7IN4xKjCpcG"
      },
      "source": [
        "# 'pre' es prefijo de 'prejucio' ?\n",
        "\"prehistoria\".startswith(\"pre\")"
      ],
      "execution_count": null,
      "outputs": []
    },
    {
      "cell_type": "code",
      "metadata": {
        "id": "ldrR9DcQtfWD"
      },
      "source": [
        "# 'ante' es prefijo de 'prejucio' ?\n",
        "\"prejuicio\".startswith(\"ante\")"
      ],
      "execution_count": null,
      "outputs": []
    },
    {
      "cell_type": "code",
      "metadata": {
        "id": "Dw5gv_qWtvkn"
      },
      "source": [
        "# 'momentito' es prefijo de 'sufijo' ?\n",
        "\"momentito\".endswith(\"ito\")"
      ],
      "execution_count": null,
      "outputs": []
    },
    {
      "cell_type": "code",
      "metadata": {
        "id": "0xWvboQct487"
      },
      "source": [
        "# 'perrito' es prefijo de 'azo' ?\n",
        "\"perrito\".endswith(\"azo\")"
      ],
      "execution_count": null,
      "outputs": []
    },
    {
      "cell_type": "markdown",
      "metadata": {
        "id": "XyecIqwLt_f2"
      },
      "source": [
        "### ¿Es un hashtag? versión 2\n",
        "Reemplazá el fragmento `????` con una expresión que guarde en la variable 'esUnHashtag' `true` si la variable 'texto' empieza con '#' y `false` en caso contrario."
      ]
    },
    {
      "cell_type": "code",
      "metadata": {
        "id": "G6dmCLEYES7T",
        "outputId": "7b4c2a92-f9c0-4393-bded-466995641adc",
        "colab": {
          "base_uri": "https://localhost:8080/"
        }
      },
      "source": [
        "texto = input(\"Ingresa algún texto: \")\n",
        "\n",
        "esUnHashtag = texto.startswith(\"#\") # find (devuelve un indice) o startswith/endswith (devuelve un boolean) o comparar el string\n",
        "\n",
        "print (\"Es un hastag? \", esUnHashtag)"
      ],
      "execution_count": 9,
      "outputs": [
        {
          "output_type": "stream",
          "name": "stdout",
          "text": [
            "Ingresa algún texto: aylu#\n",
            "Es un hastag?  False\n"
          ]
        }
      ]
    },
    {
      "cell_type": "markdown",
      "metadata": {
        "id": "INgSK3Sn0yyz"
      },
      "source": [
        "# Formateo de strings\n",
        "\n",
        "El operador de formato, `%` nos permite construir strings reemplazando partes del string (marcadores) con datos guardados en variables.\n",
        "\n",
        "`formato` % `valores`"
      ]
    },
    {
      "cell_type": "code",
      "metadata": {
        "id": "qOd4SVEHKOSy"
      },
      "source": [
        "frase = \"Mi nombre es %s\" % \"Luis\"   # marcador es %s (string)\n",
        "print(frase)"
      ],
      "execution_count": null,
      "outputs": []
    },
    {
      "cell_type": "code",
      "metadata": {
        "id": "iJ2tKq6vKhEy"
      },
      "source": [
        "frase = \"Tengo %d años\" % 23         # marcador es %d (entero)\n",
        "print(frase)\n",
        "\n",
        "edad = 20\n",
        "print(f\"Tengo {edad} años\")"
      ],
      "execution_count": null,
      "outputs": []
    },
    {
      "cell_type": "markdown",
      "metadata": {
        "id": "DvegVMiPKPKE"
      },
      "source": [
        "Algunos marcadores:\n",
        "* `%s`: String\n",
        "\n",
        "* `%d`: Número rntero\n",
        "\n",
        "* `%f`: Número de punto flotante\n",
        "\n",
        "* `%.<número de digitos>f`: Número de punto flotante con un cantidad fija de digitos a la derecha del punto `.`."
      ]
    },
    {
      "cell_type": "code",
      "metadata": {
        "id": "5KJTvABXHulY"
      },
      "source": [
        "# Un solo reemplazo\n",
        "text = \"Hola, mundo!\"\n",
        "entero = 1000\n",
        "pi = 3.14159265359\n",
        "\n",
        "print(\"Texto: %s\" % text)\n",
        "print(\"Entero: %d\" % entero)\n",
        "print(\"Pi: %f\" % pi)\n",
        "print(\"Pi: %.2f\" % pi)\n",
        "print(\"Pi: %.5f\" % pi)\n"
      ],
      "execution_count": null,
      "outputs": []
    },
    {
      "cell_type": "code",
      "metadata": {
        "id": "CUgkb-z_IvUA"
      },
      "source": [
        "# Si tenemos mas de un reemplazo\n",
        "nombre = \"Luis\"\n",
        "años   =  50\n",
        "\n",
        "print(\"Me llamo %s y tengo %d años.\" % (nombre, años))     # Se especifica con una tupla (elem1, elem2, ..., elemN)"
      ],
      "execution_count": null,
      "outputs": []
    },
    {
      "cell_type": "markdown",
      "metadata": {
        "id": "1GRhcQslJkjK"
      },
      "source": [
        "### Ejercicio"
      ]
    },
    {
      "cell_type": "code",
      "metadata": {
        "id": "u9CsOAfVMeV5"
      },
      "source": [
        "# Por qué falla el siguiente fragmento de código\n",
        "\n",
        "cancion = \"Bajan\"\n",
        "autor = \"Luis Alberto\"\n",
        "año = 1974\n",
        "\n",
        "print(\"La canción '%s' fue escrita por %s en el año $d.\" % (cancion, autor, año) )"
      ],
      "execution_count": null,
      "outputs": []
    },
    {
      "cell_type": "markdown",
      "metadata": {
        "id": "BzsS-grB2h86"
      },
      "source": [
        "# Si hay tiempo"
      ]
    },
    {
      "cell_type": "markdown",
      "metadata": {
        "id": "8FxsVQSPveTH"
      },
      "source": [
        "### ¿Qué pasa si ponemos una `'` o `\"` dentro de un `string`?\n"
      ]
    },
    {
      "cell_type": "code",
      "metadata": {
        "id": "HH2CG4nCv79m"
      },
      "source": [
        "prueba1 = \"Quiero poner una \" dentro del string\""
      ],
      "execution_count": null,
      "outputs": []
    },
    {
      "cell_type": "code",
      "metadata": {
        "id": "1BI3JuFUwVJL"
      },
      "source": [
        "prueba2 = \"Quiero poner una ' dentro del string\""
      ],
      "execution_count": null,
      "outputs": []
    },
    {
      "cell_type": "code",
      "metadata": {
        "id": "SrleVxXKwW-D"
      },
      "source": [
        "prueba3 = 'Quiero poner una \" dentro del string'"
      ],
      "execution_count": null,
      "outputs": []
    },
    {
      "cell_type": "code",
      "metadata": {
        "id": "ka_OJmh3wZt1"
      },
      "source": [
        "prueba4 = 'Quiero poner una ' dentro del string'"
      ],
      "execution_count": null,
      "outputs": []
    },
    {
      "cell_type": "markdown",
      "metadata": {
        "id": "3ehoDm7jwgJh"
      },
      "source": [
        "Parece que la solución es hacerlo como en la prueba 2 o la prueba 3.\n",
        "Pero, ¿qué pasa si en el mismo string quiero poner `'` y `\"`?"
      ]
    },
    {
      "cell_type": "code",
      "metadata": {
        "id": "e5DtBccL14Ht"
      },
      "source": [
        "prueba5 = 'Quiero poner ' y \" en el mismo string'"
      ],
      "execution_count": null,
      "outputs": []
    },
    {
      "cell_type": "code",
      "metadata": {
        "id": "0bQ9ByHN1w4-"
      },
      "source": [
        "prueba6 = \"Quiero poner ' y \" en el mismo string\""
      ],
      "execution_count": null,
      "outputs": []
    },
    {
      "cell_type": "markdown",
      "metadata": {
        "id": "LSb3vG792auD"
      },
      "source": [
        "Para solucionar esto se utiliza el caracter `\\`. Este caracter recibe en nombre de caracter de escape."
      ]
    },
    {
      "cell_type": "code",
      "metadata": {
        "id": "2l3fNIrv2u1V"
      },
      "source": [
        "prueba7 = 'Quiero poner \\' y \\\" en el mismo string'\n",
        "print(prueba7)"
      ],
      "execution_count": null,
      "outputs": []
    },
    {
      "cell_type": "code",
      "metadata": {
        "id": "qEgUGcxK21sz"
      },
      "source": [
        "prueba8 = \"Quiero poner \\' y \\\" en el mismo string\"\n",
        "print(prueba8)"
      ],
      "execution_count": null,
      "outputs": []
    },
    {
      "cell_type": "code",
      "metadata": {
        "id": "xTk_-7vl4Uxv"
      },
      "source": [
        "doslineas = \"Esta es la primera línea.???Esta es la segunda línea.\"\n",
        "print(doslineas)"
      ],
      "execution_count": null,
      "outputs": []
    },
    {
      "cell_type": "markdown",
      "metadata": {
        "id": "Ei1nO8Nf5Rkj"
      },
      "source": [
        "Como podemos ver esa no es la forma para especificar saltos de línea...\n",
        "\n",
        "La manera de hacerlo es utilizando la secuencia de caracteres de escape `\\n`\n",
        "Al momento de imprimir un `string`, Python, transforma esa secuencia de  caracteres en un salto de línea"
      ]
    },
    {
      "cell_type": "markdown",
      "metadata": {
        "id": "tAw9MjSU3trr"
      },
      "source": [
        "### ¿Cómo hacemos para imprimir un texto en diferentes lineas (saltos de línea / new line)?\n",
        "\n",
        "```\n",
        "Este es la primera línea.\n",
        "Esta es la segunda línea.\n",
        "```\n"
      ]
    },
    {
      "cell_type": "code",
      "metadata": {
        "id": "W_8cmhcX65yo"
      },
      "source": [
        "doslineas = \"Esta es la primera línea.\\nEsta es la segunda línea.\"\n",
        "print(doslineas)"
      ],
      "execution_count": null,
      "outputs": []
    },
    {
      "cell_type": "markdown",
      "metadata": {
        "id": "Ih6vrL1e_MAn"
      },
      "source": [
        "# Referencias\n",
        "\n",
        "\n",
        "*   Learning Python:  [click](https://www.learnpython.org/)\n",
        "*   Python for everybody : [click](https://www.py4e.com/)\n",
        "*   Tutorial de Python (castellano) : [click](https://docs.python.org/es/3/tutorial/index.html)\n",
        "*   Modelo de datos: [click](https://docs.python.org/3.10/reference/datamodel.html)\n",
        "\n"
      ]
    }
  ]
}