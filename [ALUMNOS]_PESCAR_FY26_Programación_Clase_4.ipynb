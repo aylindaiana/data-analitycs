{
  "nbformat": 4,
  "nbformat_minor": 0,
  "metadata": {
    "colab": {
      "provenance": [],
      "include_colab_link": true
    },
    "kernelspec": {
      "name": "python3",
      "display_name": "Python 3"
    }
  },
  "cells": [
    {
      "cell_type": "markdown",
      "metadata": {
        "id": "view-in-github",
        "colab_type": "text"
      },
      "source": [
        "<a href=\"https://colab.research.google.com/github/aylindaiana/python-Salesforce/blob/main/%5BALUMNOS%5D_PESCAR_FY26_Programaci%C3%B3n_Clase_4.ipynb\" target=\"_parent\"><img src=\"https://colab.research.google.com/assets/colab-badge.svg\" alt=\"Open In Colab\"/></a>"
      ]
    },
    {
      "cell_type": "markdown",
      "metadata": {
        "id": "gn6bEg3-uUg3"
      },
      "source": [
        "# Pescar - Clase 4 - Introducción a la programación en Python"
      ]
    },
    {
      "cell_type": "markdown",
      "metadata": {
        "id": "lBMJiKmXIR-N"
      },
      "source": [
        "# **Bloque 1**"
      ]
    },
    {
      "cell_type": "markdown",
      "metadata": {
        "id": "9ELbbtY_J9Q-"
      },
      "source": [
        "Repasamos:\n",
        "\n",
        "*   Variables y Tipos de variables\n",
        "*   Listas y Diccionarios\n",
        "*   Operators\n",
        "*   Strings: formateo y Operaciones basicas\n",
        "*   Conditions, Loops\n"
      ]
    },
    {
      "cell_type": "markdown",
      "metadata": {
        "id": "aBKE9cuDIRqh"
      },
      "source": [
        "# **Bloque 2**"
      ]
    },
    {
      "cell_type": "markdown",
      "metadata": {
        "id": "Zt56NNGJ5gVs"
      },
      "source": [
        "#Funciones\n",
        "Si algo no nos gusta a los programadores es hacer lo mismo mas de 2 veces.\n",
        "Cuando en el trabajo nos piden la tarea A el lunes, la hacemos. El miercoles nos piden de nuevo la misma tarea. Cuando al lunes siguiente vemos venir al jefe con cara de \"quiero A\", ya no hacemos la tarea hacemos algun programita que podamos automatizar para que se haga sola.\n",
        "De la misma manera nos para adentro de nuestros programas, si el mismo bloque de codigo lo vamos a ejecutar en diferentes momentos o lugares, no queremos escribirlo por todos lados, y ahi es donde aparecen nuestras queridas **Funciones**\n",
        "\n",
        "Básicamente, una función es eso, un bloque de codigo que vamos a poder \"llamar\" desde cualquier lugar de nuestro programa y se va a ejecutar siempre de la misma manera.\n",
        "\n",
        "El ejemplo mas simple es:"
      ]
    },
    {
      "cell_type": "code",
      "metadata": {
        "id": "VIfW99FT61BU"
      },
      "source": [
        "def mi_funcion():\n",
        "  print(\"Hola mundo desde dentro de la funcion\")\n",
        "\n",
        "def mi_funcion2():\n",
        "  print(\"Hola mundo desde dentro de la funcion2\")\n",
        "\n",
        "mi_funcion()\n",
        "mi_funcion2()\n",
        "mi_funcion()"
      ],
      "execution_count": null,
      "outputs": []
    },
    {
      "cell_type": "markdown",
      "metadata": {
        "id": "MqBfIK6G7Lnw"
      },
      "source": [
        "Esto si que es emocionante, no?\n",
        "\n",
        "Claro que esto no, pero podemos hacerlo mas interesante...\n",
        "\n",
        "## Recibiendo argumentos\n",
        "Es muy util que al llamar a una funcion podamos pasarle argumentos para que realice alguna operacion con ellos\n",
        "Python nos permite pasar argumentos de varias maneras: una o varias variables, una cantidad arbitraria de valores, variables con nombre, listas, etc"
      ]
    },
    {
      "cell_type": "code",
      "metadata": {
        "id": "gVSNHTbM9xEU"
      },
      "source": [
        "# funcion con dos argumentos\n",
        "def my_function(fname, lname):\n",
        "  print(fname + \" \" + lname)\n",
        "\n",
        "my_function(\"Pepe\", \"Biondi\")                       # llamada directa con argumentos\n",
        "my_function(fname = \"Juan\", lname=\"Manuel\")         # llamada con argumentos nombrados\n",
        "my_function(lname = \"Martinez\", fname=\"Josefina\")   # llamada con argumentos nombrados. al enviar por nombre de argumento podemos usar cualquier orden\n",
        "\n",
        "\n",
        "def totalizar(*valores):\n",
        "  total = 0\n",
        "  for valor in valores:\n",
        "    total = total + valor\n",
        "  print(total)\n",
        "\n",
        "totalizar(2, 3)\n",
        "totalizar(2, 3, 10)\n",
        "totalizar(2, 3, 1, 5, 7, 10)\n",
        "\n",
        "\n",
        "# funcion con una cantidad arbitraria de parametros\n",
        "def funcionArbitraria(*kids):\n",
        "  print(\"El niñe mas joven es \" + kids[2])\n",
        "\n",
        "funcionArbitraria(\"Emil\", \"Tobias\", \"Linus\")\n",
        "funcionArbitraria(\"Jose\", \"Juan\", \"Mercedes\", \"Macarena\")\n",
        "\n",
        "\n",
        "#funcion a la que le pasamos una lista como argumento\n",
        "def funcionFrutas(frutas):\n",
        "  for x in frutas:\n",
        "    print(x)\n",
        "\n",
        "fruits = [\"apple\", \"banana\", \"cherry\"]\n",
        "\n",
        "funcionFrutas(fruits)\n",
        "funcionFrutas([\"apple\", \"banana\", \"cherry\"])\n"
      ],
      "execution_count": null,
      "outputs": []
    },
    {
      "cell_type": "markdown",
      "metadata": {
        "id": "-35DnSAW-Cz9"
      },
      "source": [
        "## Retornando valores\n",
        "\n",
        "La otra gran caracteristica de las funciones es que pueden tener valores de retorno. Es decir que internamente realizara alguna operacion, y como respues a esa operacion nos respondera algo\n"
      ]
    },
    {
      "cell_type": "code",
      "metadata": {
        "id": "D0k3kV9sA4oU"
      },
      "source": [
        "# empecemos con una facil: le paso un numero como argumento, y me lo devuelve multiplicado por 5\n",
        "\"\"\"\n",
        "def quintuple(x):\n",
        "  return 5 * x\n",
        "\n",
        "retorno = quintuple(3)\n",
        "retorno = quintuple(5)\n",
        "\n",
        "quintuple3mas5 = quintuple(3) + quintuple(5)\n",
        "print(quintuple3mas5)\n",
        "\n",
        "retornos = []\n",
        "retornos.append(quintuple(3))\n",
        "retornos.append(quintuple(5))\n",
        "\n",
        "suma = quintuple(3)\n",
        "suma = quintuple(5) + suma\n",
        "\n",
        "print(retorno)\n",
        "print(retornos)\n",
        "print(suma)\n",
        "\"\"\"\n",
        "\n",
        "def saludo(nombre):\n",
        "  return \"hola \"+nombre\n",
        "\n",
        "\n",
        "nombre = input(\"dime tu nombre:\")\n",
        "mensaje = saludo(nombre)\n",
        "print(mensaje)\n",
        "\n"
      ],
      "execution_count": null,
      "outputs": []
    },
    {
      "cell_type": "markdown",
      "metadata": {
        "id": "iWCAAaE4BMum"
      },
      "source": [
        "## Recursividad\n",
        "Por ultimo, las funciones pueden ser recursivas, es decir que pueden llamarse a si mismas generando un tipo de bucle muy especial, ya que podemos *loopear* sobre valores calculados o procesados internamente en la funcion.\n",
        "\n",
        "Es sumanante importante cuando se trabaja con funciones recursivas tener muy controladas las condiciones de salida, ya que muy facilmente se puede caer en un loop infinito\n"
      ]
    },
    {
      "cell_type": "code",
      "metadata": {
        "id": "EyYEVUCWCDnt"
      },
      "source": [
        "# si el argumento de entrada es 0, devuelve 0\n",
        "# mientras el valor de entrada sea mayor que 0, la funcion se llama a si misma con ese valor reducido en 1\n",
        "# como se ve en la primera condicion (k > 0) esto va a loopear sobre si hasta que el valor sea 0\n",
        "# en la llamada del ejemplo, como inicia con valor de entrada 6, va a ejecutarse 6 veces\n",
        "# y la impresion en pantalla se realiza DESPUES de la recursividad, entonces las llamadas seran:\n",
        "\n",
        "# k = 6\n",
        "# k = 5\n",
        "# k = 4\n",
        "# k = 3\n",
        "# k = 2\n",
        "# k = 1\n",
        "\n",
        "\n",
        "\n",
        "def tri_recursion(k):\n",
        "  if(k > 0):\n",
        "    print('antes de la recursividad k vale: ', k)\n",
        "    result = k + tri_recursion(k - 1)\n",
        "    print(\"despues  de la recursividad k vale: \" + str(k) + \" // result vale: \" + str(result))\n",
        "  else:\n",
        "    result = 0\n",
        "  return result\n",
        "\n",
        "print(\"\\n\\nRecursion Example Results\")\n",
        "tr = tri_recursion(6)\n",
        "print(tr)\n"
      ],
      "execution_count": null,
      "outputs": []
    },
    {
      "cell_type": "markdown",
      "metadata": {
        "id": "OUXdrh7tYpQk"
      },
      "source": [
        "[Chiste de funciones](https://drive.google.com/file/d/1Iec2H_iCvQ--mSE6041uR0GflDWFRzJ6/view?usp=sharing)"
      ]
    },
    {
      "cell_type": "markdown",
      "metadata": {
        "id": "9RUAESvfy19y"
      },
      "source": [
        "## Que es un modulo en Python?\n",
        "\n",
        "Un módulo es una manera de agrupar funciones para facilitar el mantenimiento del código y mejorar la reutilización. Basicamente puedo agrupar en un archivo un conjunto de funciones para luego reutilizarlas dentro de otros programas.\n",
        "\n",
        "En esta clase veremos principalmente como utilizar un módulo existente, pero también es posible crear módulos propios.\n",
        "\n",
        "Por ejemplo, si coloco el siguiente código en un archivo llamado `fruit.py`\n",
        "\n",
        "```python\n",
        "def lemon():\n",
        "    print('A fruit you can use for Lemonade')\n",
        "```\n",
        "\n",
        "luego puedo utilizarlo en otro archivo importandolo de la siguiente manera\n",
        "\n",
        "```python\n",
        "import fruit\n",
        "\n",
        "fruit.lemon()\n",
        "```\n",
        "\n",
        "También es posible especificar que funciones quiero importar y que nombre quiero darle a la misma para utilizar en mi programa.\n",
        "\n",
        "```python\n",
        "from fruit import lemon as limon\n",
        "\n",
        "limon()\n",
        "```\n",
        "\n",
        "Lo más importante de los módulos es que ya existen miles de ellos listos para utilizar. Aquí una lista de algunos utiles para empezar extraidos de la [librería de referencia](https://docs.python.org/3/library/):\n",
        "\n",
        "* [datetime](https://www.w3schools.com/python/python_datetime.asp) (Funciones para manejo de fechas)\n",
        "* [math](https://www.w3schools.com/python/module_math.asp) (Funciones matemáticas básicas)\n",
        "* [os](https://docs.python.org/3/library/os.html) (Funcionalidades básicas del sistema operativo, como manejo de archivos)\n",
        "* [sys](https://docs.python.org/3/library/sys.html) (Funcionalidades especificas del sistema operativo)\n"
      ]
    },
    {
      "cell_type": "code",
      "metadata": {
        "id": "NTIzbyfA5V7O"
      },
      "source": [
        "import datetime\n",
        "\n",
        "date_time_str = '2018-06-29 08:15:27.243860'\n",
        "date_time_now = datetime.datetime.now()\n",
        "date_time_obj = datetime.datetime.strptime(date_time_str, '%Y-%m-%d %H:%M:%S.%f')\n",
        "\n",
        "print('Date:', date_time_obj.date())\n",
        "print('Time:', date_time_obj.time())\n",
        "print('Date-time:', date_time_obj)\n",
        "print('Is date before?', date_time_obj < date_time_now)"
      ],
      "execution_count": null,
      "outputs": []
    },
    {
      "cell_type": "markdown",
      "metadata": {
        "id": "j0PMKyESH6wI"
      },
      "source": [
        "# **Bloque 3**"
      ]
    },
    {
      "cell_type": "markdown",
      "metadata": {
        "id": "3O06T9xRJjqY"
      },
      "source": [
        "#Ejercicios\n"
      ]
    },
    {
      "cell_type": "markdown",
      "metadata": {
        "id": "sbteyrmSPlth"
      },
      "source": [
        "1. Crea una función que reciba una lista y retorne el número más grande de la misma."
      ]
    },
    {
      "cell_type": "code",
      "metadata": {
        "id": "MAtmeToyPmYn"
      },
      "source": [
        "def function(numeros):\n",
        "  max=0\n",
        "  for i in numeros:\n",
        "    if i> max:\n",
        "      max=i;\n",
        "    i++\n",
        "  return max"
      ],
      "execution_count": null,
      "outputs": []
    },
    {
      "cell_type": "markdown",
      "metadata": {
        "id": "LFgIYC6CRZ4x"
      },
      "source": [
        "2. Crea una función que reciba un número como parámetro e imprima desde ese número hasta el 0 (cero) sin utilizar ni `while` ni `for`.\n",
        "\n"
      ]
    },
    {
      "cell_type": "code",
      "metadata": {
        "id": "mDsWFfWHSFJt"
      },
      "source": [],
      "execution_count": null,
      "outputs": []
    },
    {
      "cell_type": "markdown",
      "metadata": {
        "id": "4w8MJnf3S22b"
      },
      "source": [
        "3. El espia\n",
        "\n",
        "  3.1. Escribir una funcion que \"encripte\" una palabra cambiando las vocales por los numeros de dicha vocal: A=1, E=2, I=3, O=4, U=5. Ej: Si la función recibe \"ANDA AL SUPER\", esta retorna \"1ND1 1L S5P2R\"\n",
        "5\n",
        "\n",
        "  3.2. Escribir una funcion que \"desencripte\" una palabra que fue encriptada por la primera funcion: A=1, E=2, I=3, O=4, U=5. Ej: Si la función recibe \"1ND1 1L S5P2R\", esta retorna \"ANDA AL SUPER\"\n",
        "\n",
        "  3.3. Escribir una funcion a la que se le pasa un texto de multiples palabras y un parametro que diga si hay que (E)ncriptar o (D)esencriptar el mensaje\n",
        "\n",
        "  3.4. Pedirle a un usuario que ingrese su nombre, un destinatario, un texto y luego muestre el mensaje encriptado\n",
        "\n",
        "  3.5. Pedirle a \"otro\" usuario que escriba su propio nombre. Si su nombre es igual al destinatario del mensaje, el programa le debe mostrar el mensaje desencriptado. si lo debe acusar de espia!\n",
        "\n",
        "\n"
      ]
    },
    {
      "cell_type": "code",
      "metadata": {
        "id": "ikiJj1m5q8aD"
      },
      "source": [
        "\n"
      ],
      "execution_count": null,
      "outputs": []
    },
    {
      "cell_type": "markdown",
      "metadata": {
        "id": "GunwRBvJKEh1"
      },
      "source": [
        "4. Realice una función que reciba como parámetros el y día, el mes y el año en formato numérico e imprima la fecha con el siguiente formato: \"December 25, 2020\". Tip: Busque en Google si existe algúna manera de hacerlo con un módulo existente"
      ]
    },
    {
      "cell_type": "code",
      "metadata": {
        "id": "ycdxqX3FPMl1"
      },
      "source": [],
      "execution_count": null,
      "outputs": []
    },
    {
      "cell_type": "markdown",
      "metadata": {
        "id": "Mir05R5_IFg8"
      },
      "source": [
        "# **Bloque 4**"
      ]
    },
    {
      "cell_type": "markdown",
      "metadata": {
        "id": "n9zDmos3d-Gj"
      },
      "source": [
        "Ejercicios individual"
      ]
    },
    {
      "cell_type": "markdown",
      "metadata": {
        "id": "7lYe5mdhhbCh"
      },
      "source": [
        "# **Bloque 5**"
      ]
    },
    {
      "cell_type": "markdown",
      "metadata": {
        "id": "xq_-Dk10KDvT"
      },
      "source": [
        "Puesta en comun"
      ]
    }
  ]
}